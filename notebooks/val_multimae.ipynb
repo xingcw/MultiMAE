{
 "cells": [
  {
   "cell_type": "code",
   "execution_count": null,
   "metadata": {},
   "outputs": [],
   "source": [
    "import os\n",
    "import cv2\n",
    "import torch\n",
    "import random\n",
    "import numpy as np\n",
    "import matplotlib.pyplot as plt\n",
    "from pathlib import Path\n",
    "\n",
    "import torch\n",
    "import torch.backends.cudnn as cudnn\n",
    "from torch.utils.data import DataLoader, SequentialSampler\n",
    "from multimae.utils.plot_utils import plot_predictions\n",
    "from multimae.utils.train_utils import normalize_depth\n",
    "from multimae.utils.datasets import build_multimae_pretraining_dataset\n",
    "from multimae.utils.plot_utils import get_semseg_metadata\n",
    "from multimae.tools.load_multimae import load_model\n",
    "from multimae.models.multimae import pretrain_multimae_base\n",
    "\n",
    "import warnings\n",
    "warnings.filterwarnings('ignore')\n",
    "warnings.simplefilter('ignore')"
   ]
  },
  {
   "attachments": {},
   "cell_type": "markdown",
   "metadata": {},
   "source": [
    "### load checkpoints"
   ]
  },
  {
   "cell_type": "code",
   "execution_count": null,
   "metadata": {},
   "outputs": [],
   "source": [
    "model_name = \"semseg-clean\"\n",
    "model, args = load_model(model_name)\n",
    "print(model.output_adapters.keys())"
   ]
  },
  {
   "cell_type": "code",
   "execution_count": null,
   "metadata": {},
   "outputs": [],
   "source": [
    "seed = 7\n",
    "torch.manual_seed(seed) # change seed to resample new mask\n",
    "np.random.seed(seed)\n",
    "random.seed(seed)\n",
    "cudnn.benchmark = True"
   ]
  },
  {
   "cell_type": "code",
   "execution_count": null,
   "metadata": {},
   "outputs": [],
   "source": [
    "# configure for detectron dataset (for prediection)\n",
    "flightmare_path = Path(os.environ[\"FLIGHTMARE_PATH\"])\n",
    "multimae_path = flightmare_path.parent / \"vision_backbones/MultiMAE\"\n",
    "eval_data_path = multimae_path / \"datasets/new_env/val\"\n",
    "pred_save_path = multimae_path / \"results/predictions\" / model_name\n",
    "os.makedirs(pred_save_path, exist_ok=True)\n",
    "metadata = get_semseg_metadata(eval_data_path)"
   ]
  },
  {
   "cell_type": "code",
   "execution_count": null,
   "metadata": {},
   "outputs": [],
   "source": [
    "args.eval_data_path = str(eval_data_path)\n",
    "dataset_val = build_multimae_pretraining_dataset(args, args.eval_data_path)\n",
    "sampler_val = SequentialSampler(dataset_val)\n",
    "data_loader_val = DataLoader(\n",
    "    dataset_val, \n",
    "    sampler=sampler_val,\n",
    "    batch_size=1,\n",
    "    num_workers=args.num_workers,\n",
    "    pin_memory=args.pin_mem,\n",
    "    drop_last=True,\n",
    ")\n",
    "\n",
    "current_img_id = 0"
   ]
  },
  {
   "cell_type": "code",
   "execution_count": null,
   "metadata": {},
   "outputs": [],
   "source": [
    "masks = {\n",
    "    \"rgb\": torch.ones((1, 14, 14), dtype=torch.long),\n",
    "    \"depth\": torch.ones((1, 14, 14), dtype=torch.long),\n",
    "    \"semseg\": torch.zeros((1, 14, 14), dtype=torch.long)\n",
    "}\n",
    "masks = {k: torch.LongTensor(v).flatten()[None].to(\"cuda\") for k, v in masks.items()}"
   ]
  },
  {
   "cell_type": "code",
   "execution_count": null,
   "metadata": {},
   "outputs": [],
   "source": [
    "for _ in range(100):\n",
    "    \n",
    "    inputs = iter(data_loader_val).next()[0]\n",
    "    current_img_id += 1\n",
    "\n",
    "    if model_name != \"no-standard-depth\" and \"depth\" in inputs:\n",
    "        inputs[\"depth\"] = normalize_depth(inputs[\"depth\"])\n",
    "    inputs = {k: v.to(\"cuda\") for k,v in inputs.items()}\n",
    "\n",
    "    print(inputs[\"depth\"].min())\n",
    "    print(inputs[\"depth\"].max())\n",
    "\n",
    "    preds, masks = model(\n",
    "        inputs, \n",
    "        num_encoded_tokens=196, \n",
    "        alphas=args.alphas, \n",
    "        sample_tasks_uniformly=args.sample_tasks_uniformly,\n",
    "        mask_type=args.mask_type,\n",
    "        masked_rgb_gate_only=True,\n",
    "        semseg_gt=inputs[\"semseg\"],\n",
    "        in_domains=args.in_domains,\n",
    "        semseg_stride=4,\n",
    "        mask_inputs=True,\n",
    "        task_masks=masks,\n",
    "    )\n",
    "\n",
    "    preds = {domain: pred.detach().cpu() for domain, pred in preds.items()}\n",
    "\n",
    "    fig = plot_predictions(inputs, preds, masks, metadata=metadata, return_fig=True)\n",
    "\n",
    "    fig.save(f\"{pred_save_path}/{current_img_id}.png\")\n",
    "\n",
    "    print(preds[\"depth\"].min())\n",
    "    print(preds[\"depth\"].max())"
   ]
  }
 ],
 "metadata": {
  "kernelspec": {
   "display_name": "flight",
   "language": "python",
   "name": "python3"
  },
  "language_info": {
   "codemirror_mode": {
    "name": "ipython",
    "version": 3
   },
   "file_extension": ".py",
   "mimetype": "text/x-python",
   "name": "python",
   "nbconvert_exporter": "python",
   "pygments_lexer": "ipython3",
   "version": "3.8.15"
  },
  "orig_nbformat": 4,
  "vscode": {
   "interpreter": {
    "hash": "7605093629cb18fcce5e9851ee580088d6671b36cffe2f96996ec104406ff14d"
   }
  }
 },
 "nbformat": 4,
 "nbformat_minor": 2
}

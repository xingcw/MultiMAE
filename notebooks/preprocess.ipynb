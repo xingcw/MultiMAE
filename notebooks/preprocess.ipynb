{
 "cells": [
  {
   "cell_type": "code",
   "execution_count": 1,
   "metadata": {},
   "outputs": [],
   "source": [
    "import os\n",
    "import numpy as np\n",
    "from tqdm import tqdm\n",
    "from PIL import Image\n",
    "from pathlib import Path\n",
    "from pipelines.utils.data_utils import normalize2d_scale, normalize2d_robust"
   ]
  },
  {
   "cell_type": "code",
   "execution_count": 5,
   "metadata": {},
   "outputs": [
    {
     "name": "stdout",
     "output_type": "stream",
     "text": [
      "22571 6683\n"
     ]
    }
   ],
   "source": [
    "multimae_root_dir = Path(os.getcwd()).parent\n",
    "nyu_data_path = multimae_root_dir / \"datasets/nyu/train\"\n",
    "\n",
    "rgb_path = nyu_data_path / \"rgb/data\"\n",
    "depth_path = nyu_data_path / \"depth/data\"\n",
    "semseg_path =  nyu_data_path / \"semseg/data\"\n",
    "\n",
    "sample_depth = depth_path / \"0002.png\"\n",
    "depth = np.array(Image.open(sample_depth))\n",
    "print(depth.max(), depth.min())"
   ]
  },
  {
   "cell_type": "code",
   "execution_count": 62,
   "metadata": {},
   "outputs": [],
   "source": [
    "data_dir = multimae_root_dir / \"datasets/multivit_01-29-23-26-03/data/data\"\n",
    "\n",
    "new_rgb_dir = multimae_root_dir / \"datasets/data/rgb\"\n",
    "new_depth_dir = multimae_root_dir / \"datasets/data/depth\"\n",
    "new_semseg_dir = multimae_root_dir / \"datasets/data/semseg\""
   ]
  },
  {
   "cell_type": "code",
   "execution_count": 63,
   "metadata": {},
   "outputs": [],
   "source": [
    "os.makedirs(new_rgb_dir, exist_ok=True)\n",
    "os.makedirs(new_depth_dir, exist_ok=True)\n",
    "os.makedirs(new_semseg_dir, exist_ok=True)"
   ]
  },
  {
   "cell_type": "code",
   "execution_count": 64,
   "metadata": {},
   "outputs": [
    {
     "name": "stderr",
     "output_type": "stream",
     "text": [
      "100%|██████████| 10100/10100 [02:39<00:00, 63.22it/s]\n"
     ]
    }
   ],
   "source": [
    "for npz_file in tqdm(os.listdir(data_dir)):\n",
    "    npz_file_path = data_dir / npz_file\n",
    "    data = np.load(npz_file_path)\n",
    "\n",
    "    file_name = Path(npz_file).stem\n",
    "    rgb_path = new_rgb_dir / f\"{file_name}.png\"\n",
    "    depth_path = new_depth_dir / f\"{file_name}.tif\"\n",
    "    semseg_path = new_semseg_dir / f\"{file_name}.png\"\n",
    "    \n",
    "    rgb_img = data[\"rgb\"].squeeze().transpose(2, 1, 0)\n",
    "    depth_img = data[\"depth\"].squeeze()\n",
    "    depth_img = normalize2d_scale(depth_img)\n",
    "    assert not (depth_img < 0).any()\n",
    "    semseg_img = data[\"semseg\"].squeeze()\n",
    "    \n",
    "    rgb_img = Image.fromarray(rgb_img, mode=\"RGB\")\n",
    "    depth_img = Image.fromarray(depth_img)\n",
    "    semseg_img = Image.fromarray(semseg_img, mode=\"L\")\n",
    "    \n",
    "    rgb_img.save(rgb_path, mode=\"BGR\")\n",
    "    depth_img.save(depth_path)\n",
    "    semseg_img.save(semseg_path)"
   ]
  }
 ],
 "metadata": {
  "kernelspec": {
   "display_name": "flight",
   "language": "python",
   "name": "python3"
  },
  "language_info": {
   "codemirror_mode": {
    "name": "ipython",
    "version": 3
   },
   "file_extension": ".py",
   "mimetype": "text/x-python",
   "name": "python",
   "nbconvert_exporter": "python",
   "pygments_lexer": "ipython3",
   "version": "3.8.15"
  },
  "orig_nbformat": 4,
  "vscode": {
   "interpreter": {
    "hash": "b5007674d9367f202903ad40bbfe5061e981a21fff3e651992d51e1cbbc95975"
   }
  }
 },
 "nbformat": 4,
 "nbformat_minor": 2
}

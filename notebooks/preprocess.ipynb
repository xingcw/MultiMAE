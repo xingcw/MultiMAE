{
 "cells": [
  {
   "cell_type": "code",
   "execution_count": 1,
   "metadata": {},
   "outputs": [],
   "source": [
    "import os\n",
    "import numpy as np\n",
    "from tqdm import tqdm\n",
    "from PIL import Image\n",
    "from pathlib import Path\n",
    "from pipelines.utils.data_utils import normalize2d_scale, normalize2d_robust"
   ]
  },
  {
   "cell_type": "code",
   "execution_count": 3,
   "metadata": {},
   "outputs": [],
   "source": [
    "flightmare_path = Path(os.environ[\"FLIGHTMARE_PATH\"])\n",
    "multimae_root_dir = flightmare_path.parent / \"vision_backbones/MultiMAE\"\n",
    "test_data_path = multimae_root_dir / \"datasets/test/train\"\n",
    "\n",
    "rgb_path = test_data_path / \"rgb/data\"\n",
    "depth_path = test_data_path / \"depth/data\"\n",
    "semseg_path =  test_data_path / \"semseg/data\"\n",
    "\n",
    "for i in range(8000):\n",
    "    sample_depth = depth_path / f\"{i:06d}.png\"\n",
    "    if os.path.exists(sample_depth):\n",
    "        depth = np.array(Image.open(sample_depth))\n",
    "        if depth.min() < 0:\n",
    "            print(f\"Negative depth: {sample_depth}\")"
   ]
  }
 ],
 "metadata": {
  "kernelspec": {
   "display_name": "flight",
   "language": "python",
   "name": "python3"
  },
  "language_info": {
   "codemirror_mode": {
    "name": "ipython",
    "version": 3
   },
   "file_extension": ".py",
   "mimetype": "text/x-python",
   "name": "python",
   "nbconvert_exporter": "python",
   "pygments_lexer": "ipython3",
   "version": "3.8.15"
  },
  "orig_nbformat": 4,
  "vscode": {
   "interpreter": {
    "hash": "7605093629cb18fcce5e9851ee580088d6671b36cffe2f96996ec104406ff14d"
   }
  }
 },
 "nbformat": 4,
 "nbformat_minor": 2
}

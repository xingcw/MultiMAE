{
  "cells": [
    {
      "cell_type": "markdown",
      "id": "CQFqYxle3xfs",
      "metadata": {
        "id": "CQFqYxle3xfs"
      },
      "source": [
        "# MultiMAE: Multi-modal Multi-task Masked Autoencoders\n",
        "\n"
      ]
    },
    {
      "cell_type": "markdown",
      "id": "YNrydfP6g2zV",
      "metadata": {
        "id": "YNrydfP6g2zV"
      },
      "source": [
        "**Important:** This notebook requires a GPU for installing certain dependencies. Let's see which one we got here:"
      ]
    },
    {
      "cell_type": "code",
      "execution_count": 1,
      "id": "zrv-ZKGG3i9Q",
      "metadata": {
        "colab": {
          "base_uri": "https://localhost:8080/"
        },
        "id": "zrv-ZKGG3i9Q",
        "outputId": "ceebd0d7-d3b2-47c7-e14c-4bb543f7fa5d"
      },
      "outputs": [
        {
          "name": "stdout",
          "output_type": "stream",
          "text": [
            "Fri Feb  3 15:23:34 2023       \n",
            "+-----------------------------------------------------------------------------+\n",
            "| NVIDIA-SMI 470.161.03   Driver Version: 470.161.03   CUDA Version: 11.4     |\n",
            "|-------------------------------+----------------------+----------------------+\n",
            "| GPU  Name        Persistence-M| Bus-Id        Disp.A | Volatile Uncorr. ECC |\n",
            "| Fan  Temp  Perf  Pwr:Usage/Cap|         Memory-Usage | GPU-Util  Compute M. |\n",
            "|                               |                      |               MIG M. |\n",
            "|===============================+======================+======================|\n",
            "|   0  NVIDIA GeForce ...  Off  | 00000000:01:00.0 Off |                  N/A |\n",
            "| N/A   63C    P0    22W /  N/A |   1064MiB /  3914MiB |     43%      Default |\n",
            "|                               |                      |                  N/A |\n",
            "+-------------------------------+----------------------+----------------------+\n",
            "                                                                               \n",
            "+-----------------------------------------------------------------------------+\n",
            "| Processes:                                                                  |\n",
            "|  GPU   GI   CI        PID   Type   Process name                  GPU Memory |\n",
            "|        ID   ID                                                   Usage      |\n",
            "|=============================================================================|\n",
            "|    0   N/A  N/A      1269      G   /usr/lib/xorg/Xorg                406MiB |\n",
            "|    0   N/A  N/A      1636      G   /usr/bin/gnome-shell               69MiB |\n",
            "|    0   N/A  N/A      2645      G   ...veSuggestionsOnlyOnDemand       73MiB |\n",
            "|    0   N/A  N/A      5352      G   ...957921343902721362,131072       74MiB |\n",
            "|    0   N/A  N/A     26595      G   ...RendererForSitePerProcess      296MiB |\n",
            "|    0   N/A  N/A     27416    C+G   /usr/NX/bin/nxplayer.bin          139MiB |\n",
            "+-----------------------------------------------------------------------------+\n"
          ]
        }
      ],
      "source": [
        "!nvidia-smi"
      ]
    },
    {
      "cell_type": "markdown",
      "id": "uIv8bdqZ37fj",
      "metadata": {
        "id": "uIv8bdqZ37fj"
      },
      "source": [
        "## 1 Install dependencies\n",
        "\n",
        "These cells download the MultiMAE code base, as well as the DPT and Mask2Former repositories that are used to pseudo label RGB images.\n",
        "\n",
        "First, we need to downgrade PyTorch to version 1.10.0 due to compatibility issues with Detectron2. Make sure to restart the runtime once after reinstalling PyTorch, and once after installing all other packages."
      ]
    },
    {
      "cell_type": "markdown",
      "id": "zb32NSYljwZ7",
      "metadata": {
        "id": "zb32NSYljwZ7"
      },
      "source": [
        "### 1.1 Downgrade PyTorch"
      ]
    },
    {
      "cell_type": "code",
      "execution_count": 2,
      "id": "aaGp2w6LfYJv",
      "metadata": {
        "colab": {
          "base_uri": "https://localhost:8080/"
        },
        "id": "aaGp2w6LfYJv",
        "outputId": "52ac9a52-cfa3-4c9e-e43d-f9c52cab9069"
      },
      "outputs": [
        {
          "name": "stdout",
          "output_type": "stream",
          "text": [
            "\u001b[33mWARNING: Skipping torch as it is not installed.\u001b[0m\u001b[33m\n",
            "\u001b[0m\u001b[33mWARNING: Skipping torchvision as it is not installed.\u001b[0m\u001b[33m\n",
            "\u001b[0m\u001b[33mWARNING: Skipping torchaudio as it is not installed.\u001b[0m\u001b[33m\n",
            "\u001b[0m\u001b[33mWARNING: Skipping torchtext as it is not installed.\u001b[0m\u001b[33m\n",
            "\u001b[0mNote: you may need to restart the kernel to use updated packages.\n",
            "Looking in links: https://download.pytorch.org/whl/torch_stable.html\n",
            "Collecting torch==1.10.0+cu113\n",
            "  Using cached https://download.pytorch.org/whl/cu113/torch-1.10.0%2Bcu113-cp38-cp38-linux_x86_64.whl (1821.4 MB)\n",
            "Collecting torchvision==0.11.0+cu113\n",
            "  Using cached https://download.pytorch.org/whl/cu113/torchvision-0.11.0%2Bcu113-cp38-cp38-linux_x86_64.whl (21.8 MB)\n",
            "Collecting torchaudio==0.10.0\n",
            "  Using cached https://download.pytorch.org/whl/rocm4.1/torchaudio-0.10.0%2Brocm4.1-cp38-cp38-linux_x86_64.whl (2.7 MB)\n",
            "Requirement already satisfied: typing-extensions in /home/chunwei/miniconda3/envs/flight/lib/python3.8/site-packages (from torch==1.10.0+cu113) (4.4.0)\n",
            "Requirement already satisfied: pillow!=8.3.0,>=5.3.0 in /home/chunwei/miniconda3/envs/flight/lib/python3.8/site-packages (from torchvision==0.11.0+cu113) (9.4.0)\n",
            "Requirement already satisfied: numpy in /home/chunwei/miniconda3/envs/flight/lib/python3.8/site-packages (from torchvision==0.11.0+cu113) (1.23.1)\n",
            "Installing collected packages: torch, torchvision, torchaudio\n",
            "Successfully installed torch-1.10.0+cu113 torchaudio-0.10.0+rocm4.1 torchvision-0.11.0+cu113\n",
            "Note: you may need to restart the kernel to use updated packages.\n"
          ]
        }
      ],
      "source": [
        "%pip uninstall -y torch torchvision torchaudio torchtext\n",
        "%pip install torch==1.10.0+cu113 torchvision==0.11.0+cu113 torchaudio==0.10.0 -f https://download.pytorch.org/whl/torch_stable.html"
      ]
    },
    {
      "cell_type": "markdown",
      "id": "JYcdEMrzj7nt",
      "metadata": {
        "id": "JYcdEMrzj7nt"
      },
      "source": [
        "### 1.2 Install dependencies\n",
        "\n",
        "**Important**: Before running the following cells, please restart the runtime using the menu bar entries `Runtime > Restart runtime`"
      ]
    },
    {
      "cell_type": "code",
      "execution_count": 3,
      "id": "7127bd8a",
      "metadata": {
        "colab": {
          "base_uri": "https://localhost:8080/",
          "height": 1000
        },
        "id": "7127bd8a",
        "outputId": "11fd8ca3-4a13-4ae5-feaf-b4579501efeb"
      },
      "outputs": [
        {
          "name": "stderr",
          "output_type": "stream",
          "text": [
            "/home/chunwei/miniconda3/envs/flight/lib/python3.8/site-packages/tqdm/auto.py:22: TqdmWarning: IProgress not found. Please update jupyter and ipywidgets. See https://ipywidgets.readthedocs.io/en/stable/user_install.html\n",
            "  from .autonotebook import tqdm as notebook_tqdm\n"
          ]
        },
        {
          "name": "stdout",
          "output_type": "stream",
          "text": [
            "torch:  1.10 ; cuda:  cu113\n",
            "Looking in links: https://dl.fbaipublicfiles.com/detectron2/wheels/cu113/torch1.10/index.html\n",
            "Requirement already satisfied: detectron2 in /home/chunwei/miniconda3/envs/flight/lib/python3.8/site-packages (0.6+cu113)\n",
            "Requirement already satisfied: tensorboard in /home/chunwei/miniconda3/envs/flight/lib/python3.8/site-packages (from detectron2) (2.11.0)\n",
            "Requirement already satisfied: yacs>=0.1.8 in /home/chunwei/miniconda3/envs/flight/lib/python3.8/site-packages (from detectron2) (0.1.8)\n",
            "Requirement already satisfied: pycocotools>=2.0.2 in /home/chunwei/miniconda3/envs/flight/lib/python3.8/site-packages (from detectron2) (2.0.6)\n",
            "Requirement already satisfied: tabulate in /home/chunwei/miniconda3/envs/flight/lib/python3.8/site-packages (from detectron2) (0.9.0)\n",
            "Requirement already satisfied: tqdm>4.29.0 in /home/chunwei/miniconda3/envs/flight/lib/python3.8/site-packages (from detectron2) (4.64.1)\n",
            "Requirement already satisfied: termcolor>=1.1 in /home/chunwei/miniconda3/envs/flight/lib/python3.8/site-packages (from detectron2) (2.1.1)\n",
            "Requirement already satisfied: iopath<0.1.10,>=0.1.7 in /home/chunwei/miniconda3/envs/flight/lib/python3.8/site-packages (from detectron2) (0.1.9)\n",
            "Requirement already satisfied: pydot in /home/chunwei/miniconda3/envs/flight/lib/python3.8/site-packages (from detectron2) (1.4.2)\n",
            "Requirement already satisfied: cloudpickle in /home/chunwei/miniconda3/envs/flight/lib/python3.8/site-packages (from detectron2) (1.3.0)\n",
            "Requirement already satisfied: hydra-core>=1.1 in /home/chunwei/miniconda3/envs/flight/lib/python3.8/site-packages (from detectron2) (1.3.1)\n",
            "Requirement already satisfied: matplotlib in /home/chunwei/miniconda3/envs/flight/lib/python3.8/site-packages (from detectron2) (3.6.2)\n",
            "Requirement already satisfied: omegaconf>=2.1 in /home/chunwei/miniconda3/envs/flight/lib/python3.8/site-packages (from detectron2) (2.3.0)\n",
            "Requirement already satisfied: future in /home/chunwei/miniconda3/envs/flight/lib/python3.8/site-packages (from detectron2) (0.18.2)\n",
            "Requirement already satisfied: black==21.4b2 in /home/chunwei/miniconda3/envs/flight/lib/python3.8/site-packages (from detectron2) (21.4b2)\n",
            "Requirement already satisfied: fvcore<0.1.6,>=0.1.5 in /home/chunwei/miniconda3/envs/flight/lib/python3.8/site-packages (from detectron2) (0.1.5.post20221221)\n",
            "Requirement already satisfied: Pillow>=7.1 in /home/chunwei/miniconda3/envs/flight/lib/python3.8/site-packages (from detectron2) (9.4.0)\n",
            "Requirement already satisfied: click>=7.1.2 in /home/chunwei/miniconda3/envs/flight/lib/python3.8/site-packages (from black==21.4b2->detectron2) (8.1.3)\n",
            "Requirement already satisfied: pathspec<1,>=0.8.1 in /home/chunwei/miniconda3/envs/flight/lib/python3.8/site-packages (from black==21.4b2->detectron2) (0.11.0)\n",
            "Requirement already satisfied: appdirs in /home/chunwei/miniconda3/envs/flight/lib/python3.8/site-packages (from black==21.4b2->detectron2) (1.4.4)\n",
            "Requirement already satisfied: mypy-extensions>=0.4.3 in /home/chunwei/miniconda3/envs/flight/lib/python3.8/site-packages (from black==21.4b2->detectron2) (0.4.3)\n",
            "Requirement already satisfied: regex>=2020.1.8 in /home/chunwei/miniconda3/envs/flight/lib/python3.8/site-packages (from black==21.4b2->detectron2) (2022.10.31)\n",
            "Requirement already satisfied: toml>=0.10.1 in /home/chunwei/miniconda3/envs/flight/lib/python3.8/site-packages (from black==21.4b2->detectron2) (0.10.2)\n",
            "Requirement already satisfied: numpy in /home/chunwei/miniconda3/envs/flight/lib/python3.8/site-packages (from fvcore<0.1.6,>=0.1.5->detectron2) (1.23.1)\n",
            "Requirement already satisfied: pyyaml>=5.1 in /home/chunwei/miniconda3/envs/flight/lib/python3.8/site-packages (from fvcore<0.1.6,>=0.1.5->detectron2) (6.0)\n",
            "Requirement already satisfied: packaging in /home/chunwei/miniconda3/envs/flight/lib/python3.8/site-packages (from hydra-core>=1.1->detectron2) (22.0)\n",
            "Requirement already satisfied: importlib-resources in /home/chunwei/miniconda3/envs/flight/lib/python3.8/site-packages (from hydra-core>=1.1->detectron2) (5.10.2)\n",
            "Requirement already satisfied: antlr4-python3-runtime==4.9.* in /home/chunwei/miniconda3/envs/flight/lib/python3.8/site-packages (from hydra-core>=1.1->detectron2) (4.9.3)\n",
            "Requirement already satisfied: portalocker in /home/chunwei/miniconda3/envs/flight/lib/python3.8/site-packages (from iopath<0.1.10,>=0.1.7->detectron2) (2.7.0)\n",
            "Requirement already satisfied: kiwisolver>=1.0.1 in /home/chunwei/miniconda3/envs/flight/lib/python3.8/site-packages (from matplotlib->detectron2) (1.4.4)\n",
            "Requirement already satisfied: fonttools>=4.22.0 in /home/chunwei/miniconda3/envs/flight/lib/python3.8/site-packages (from matplotlib->detectron2) (4.38.0)\n",
            "Requirement already satisfied: pyparsing>=2.2.1 in /home/chunwei/miniconda3/envs/flight/lib/python3.8/site-packages (from matplotlib->detectron2) (3.0.9)\n",
            "Requirement already satisfied: python-dateutil>=2.7 in /home/chunwei/miniconda3/envs/flight/lib/python3.8/site-packages (from matplotlib->detectron2) (2.8.2)\n",
            "Requirement already satisfied: contourpy>=1.0.1 in /home/chunwei/miniconda3/envs/flight/lib/python3.8/site-packages (from matplotlib->detectron2) (1.0.6)\n",
            "Requirement already satisfied: cycler>=0.10 in /home/chunwei/miniconda3/envs/flight/lib/python3.8/site-packages (from matplotlib->detectron2) (0.11.0)\n",
            "Requirement already satisfied: tensorboard-plugin-wit>=1.6.0 in /home/chunwei/miniconda3/envs/flight/lib/python3.8/site-packages (from tensorboard->detectron2) (1.8.1)\n",
            "Requirement already satisfied: grpcio>=1.24.3 in /home/chunwei/miniconda3/envs/flight/lib/python3.8/site-packages (from tensorboard->detectron2) (1.51.1)\n",
            "Requirement already satisfied: protobuf<4,>=3.9.2 in /home/chunwei/miniconda3/envs/flight/lib/python3.8/site-packages (from tensorboard->detectron2) (3.19.6)\n",
            "Requirement already satisfied: setuptools>=41.0.0 in /home/chunwei/miniconda3/envs/flight/lib/python3.8/site-packages (from tensorboard->detectron2) (65.5.0)\n",
            "Requirement already satisfied: requests<3,>=2.21.0 in /home/chunwei/miniconda3/envs/flight/lib/python3.8/site-packages (from tensorboard->detectron2) (2.28.1)\n",
            "Requirement already satisfied: absl-py>=0.4 in /home/chunwei/miniconda3/envs/flight/lib/python3.8/site-packages (from tensorboard->detectron2) (1.3.0)\n",
            "Requirement already satisfied: tensorboard-data-server<0.7.0,>=0.6.0 in /home/chunwei/miniconda3/envs/flight/lib/python3.8/site-packages (from tensorboard->detectron2) (0.6.1)\n",
            "Requirement already satisfied: google-auth<3,>=1.6.3 in /home/chunwei/miniconda3/envs/flight/lib/python3.8/site-packages (from tensorboard->detectron2) (2.15.0)\n",
            "Requirement already satisfied: markdown>=2.6.8 in /home/chunwei/miniconda3/envs/flight/lib/python3.8/site-packages (from tensorboard->detectron2) (3.4.1)\n",
            "Requirement already satisfied: google-auth-oauthlib<0.5,>=0.4.1 in /home/chunwei/miniconda3/envs/flight/lib/python3.8/site-packages (from tensorboard->detectron2) (0.4.6)\n",
            "Requirement already satisfied: werkzeug>=1.0.1 in /home/chunwei/miniconda3/envs/flight/lib/python3.8/site-packages (from tensorboard->detectron2) (2.2.2)\n",
            "Requirement already satisfied: wheel>=0.26 in /home/chunwei/miniconda3/envs/flight/lib/python3.8/site-packages (from tensorboard->detectron2) (0.37.1)\n",
            "Requirement already satisfied: pyasn1-modules>=0.2.1 in /home/chunwei/miniconda3/envs/flight/lib/python3.8/site-packages (from google-auth<3,>=1.6.3->tensorboard->detectron2) (0.2.8)\n",
            "Requirement already satisfied: six>=1.9.0 in /home/chunwei/miniconda3/envs/flight/lib/python3.8/site-packages (from google-auth<3,>=1.6.3->tensorboard->detectron2) (1.16.0)\n",
            "Requirement already satisfied: cachetools<6.0,>=2.0.0 in /home/chunwei/miniconda3/envs/flight/lib/python3.8/site-packages (from google-auth<3,>=1.6.3->tensorboard->detectron2) (5.2.0)\n",
            "Requirement already satisfied: rsa<5,>=3.1.4 in /home/chunwei/miniconda3/envs/flight/lib/python3.8/site-packages (from google-auth<3,>=1.6.3->tensorboard->detectron2) (4.9)\n",
            "Requirement already satisfied: requests-oauthlib>=0.7.0 in /home/chunwei/miniconda3/envs/flight/lib/python3.8/site-packages (from google-auth-oauthlib<0.5,>=0.4.1->tensorboard->detectron2) (1.3.1)\n",
            "Requirement already satisfied: importlib-metadata>=4.4 in /home/chunwei/miniconda3/envs/flight/lib/python3.8/site-packages (from markdown>=2.6.8->tensorboard->detectron2) (6.0.0)\n",
            "Requirement already satisfied: charset-normalizer<3,>=2 in /home/chunwei/miniconda3/envs/flight/lib/python3.8/site-packages (from requests<3,>=2.21.0->tensorboard->detectron2) (2.1.1)\n",
            "Requirement already satisfied: urllib3<1.27,>=1.21.1 in /home/chunwei/miniconda3/envs/flight/lib/python3.8/site-packages (from requests<3,>=2.21.0->tensorboard->detectron2) (1.26.13)\n",
            "Requirement already satisfied: certifi>=2017.4.17 in /home/chunwei/miniconda3/envs/flight/lib/python3.8/site-packages (from requests<3,>=2.21.0->tensorboard->detectron2) (2022.12.7)\n",
            "Requirement already satisfied: idna<4,>=2.5 in /home/chunwei/miniconda3/envs/flight/lib/python3.8/site-packages (from requests<3,>=2.21.0->tensorboard->detectron2) (3.4)\n",
            "Requirement already satisfied: MarkupSafe>=2.1.1 in /home/chunwei/miniconda3/envs/flight/lib/python3.8/site-packages (from werkzeug>=1.0.1->tensorboard->detectron2) (2.1.1)\n",
            "Requirement already satisfied: zipp>=3.1.0 in /home/chunwei/miniconda3/envs/flight/lib/python3.8/site-packages (from importlib-resources->hydra-core>=1.1->detectron2) (3.11.0)\n",
            "Requirement already satisfied: pyasn1<0.5.0,>=0.4.6 in /home/chunwei/miniconda3/envs/flight/lib/python3.8/site-packages (from pyasn1-modules>=0.2.1->google-auth<3,>=1.6.3->tensorboard->detectron2) (0.4.8)\n",
            "Requirement already satisfied: oauthlib>=3.0.0 in /home/chunwei/miniconda3/envs/flight/lib/python3.8/site-packages (from requests-oauthlib>=0.7.0->google-auth-oauthlib<0.5,>=0.4.1->tensorboard->detectron2) (3.2.2)\n",
            "Note: you may need to restart the kernel to use updated packages.\n"
          ]
        }
      ],
      "source": [
        "import torch\n",
        "TORCH_VERSION = \".\".join(torch.__version__.split(\".\")[:2])\n",
        "CUDA_VERSION = torch.__version__.split(\"+\")[-1]\n",
        "print(\"torch: \", TORCH_VERSION, \"; cuda: \", CUDA_VERSION)\n",
        "## Install detectron2 that matches the above pytorch version\n",
        "## See https://detectron2.readthedocs.io/tutorials/install.html for instructions\n",
        "%pip install detectron2 -f https://dl.fbaipublicfiles.com/detectron2/wheels/$CUDA_VERSION/torch$TORCH_VERSION/index.html\n",
        "\n",
        "## In case you have troubles with Detectron2, consider installing it from source instead. This takes a few minutes.\n",
        "#!python -m pip install 'git+https://github.com/facebookresearch/detectron2.git'"
      ]
    },
    {
      "cell_type": "code",
      "execution_count": 4,
      "id": "ebe8dmf7duNj",
      "metadata": {
        "colab": {
          "base_uri": "https://localhost:8080/"
        },
        "id": "ebe8dmf7duNj",
        "outputId": "96195ecb-717b-41b9-b470-113f7a19352b"
      },
      "outputs": [
        {
          "name": "stdout",
          "output_type": "stream",
          "text": [
            "/home/chunwei/Documents/drone_offboard/vision_backbones/Mask2Former\n",
            "/home/chunwei/Documents/drone_offboard/vision_backbones/Mask2Former\n",
            "Requirement already satisfied: opencv-python in /home/chunwei/miniconda3/envs/flight/lib/python3.8/site-packages (4.7.0.68)\n",
            "Requirement already satisfied: numpy>=1.17.0 in /home/chunwei/miniconda3/envs/flight/lib/python3.8/site-packages (from opencv-python) (1.23.1)\n",
            "Note: you may need to restart the kernel to use updated packages.\n",
            "Collecting git+https://github.com/cocodataset/panopticapi.git\n",
            "  Cloning https://github.com/cocodataset/panopticapi.git to /tmp/pip-req-build-eyi7fp2n\n",
            "  Running command git clone --filter=blob:none --quiet https://github.com/cocodataset/panopticapi.git /tmp/pip-req-build-eyi7fp2n\n",
            "  Resolved https://github.com/cocodataset/panopticapi.git to commit 7bb4655548f98f3fedc07bf37e9040a992b054b0\n",
            "  Preparing metadata (setup.py) ... \u001b[?25ldone\n",
            "\u001b[?25hRequirement already satisfied: numpy in /home/chunwei/miniconda3/envs/flight/lib/python3.8/site-packages (from panopticapi==0.1) (1.23.1)\n",
            "Requirement already satisfied: Pillow in /home/chunwei/miniconda3/envs/flight/lib/python3.8/site-packages (from panopticapi==0.1) (9.4.0)\n",
            "Note: you may need to restart the kernel to use updated packages.\n",
            "Requirement already satisfied: cython in /home/chunwei/miniconda3/envs/flight/lib/python3.8/site-packages (from -r requirements.txt (line 1)) (0.29.33)\n",
            "Requirement already satisfied: scipy in /home/chunwei/miniconda3/envs/flight/lib/python3.8/site-packages (from -r requirements.txt (line 2)) (1.9.3)\n",
            "Requirement already satisfied: shapely in /home/chunwei/miniconda3/envs/flight/lib/python3.8/site-packages (from -r requirements.txt (line 3)) (2.0.1)\n",
            "Requirement already satisfied: timm in /home/chunwei/miniconda3/envs/flight/lib/python3.8/site-packages (from -r requirements.txt (line 4)) (0.4.12)\n",
            "Requirement already satisfied: h5py in /home/chunwei/miniconda3/envs/flight/lib/python3.8/site-packages (from -r requirements.txt (line 5)) (3.7.0)\n",
            "Requirement already satisfied: submitit in /home/chunwei/miniconda3/envs/flight/lib/python3.8/site-packages (from -r requirements.txt (line 6)) (1.4.5)\n",
            "Requirement already satisfied: scikit-image in /home/chunwei/miniconda3/envs/flight/lib/python3.8/site-packages (from -r requirements.txt (line 7)) (0.19.3)\n",
            "Requirement already satisfied: numpy<1.26.0,>=1.18.5 in /home/chunwei/miniconda3/envs/flight/lib/python3.8/site-packages (from scipy->-r requirements.txt (line 2)) (1.23.1)\n",
            "Requirement already satisfied: torchvision in /home/chunwei/miniconda3/envs/flight/lib/python3.8/site-packages (from timm->-r requirements.txt (line 4)) (0.11.0+cu113)\n",
            "Requirement already satisfied: torch>=1.4 in /home/chunwei/miniconda3/envs/flight/lib/python3.8/site-packages (from timm->-r requirements.txt (line 4)) (1.10.0+cu113)\n",
            "Requirement already satisfied: cloudpickle>=1.2.1 in /home/chunwei/miniconda3/envs/flight/lib/python3.8/site-packages (from submitit->-r requirements.txt (line 6)) (1.3.0)\n",
            "Requirement already satisfied: typing_extensions>=3.7.4.2 in /home/chunwei/miniconda3/envs/flight/lib/python3.8/site-packages (from submitit->-r requirements.txt (line 6)) (4.4.0)\n",
            "Requirement already satisfied: PyWavelets>=1.1.1 in /home/chunwei/miniconda3/envs/flight/lib/python3.8/site-packages (from scikit-image->-r requirements.txt (line 7)) (1.4.1)\n",
            "Requirement already satisfied: packaging>=20.0 in /home/chunwei/miniconda3/envs/flight/lib/python3.8/site-packages (from scikit-image->-r requirements.txt (line 7)) (22.0)\n",
            "Requirement already satisfied: pillow!=7.1.0,!=7.1.1,!=8.3.0,>=6.1.0 in /home/chunwei/miniconda3/envs/flight/lib/python3.8/site-packages (from scikit-image->-r requirements.txt (line 7)) (9.4.0)\n",
            "Requirement already satisfied: tifffile>=2019.7.26 in /home/chunwei/miniconda3/envs/flight/lib/python3.8/site-packages (from scikit-image->-r requirements.txt (line 7)) (2022.10.10)\n",
            "Requirement already satisfied: networkx>=2.2 in /home/chunwei/miniconda3/envs/flight/lib/python3.8/site-packages (from scikit-image->-r requirements.txt (line 7)) (2.8.8)\n",
            "Requirement already satisfied: imageio>=2.4.1 in /home/chunwei/miniconda3/envs/flight/lib/python3.8/site-packages (from scikit-image->-r requirements.txt (line 7)) (2.23.0)\n",
            "Note: you may need to restart the kernel to use updated packages.\n",
            "/home/chunwei/Documents/drone_offboard/vision_backbones/Mask2Former/mask2former/modeling/pixel_decoder/ops\n",
            "running build\n",
            "running build_py\n",
            "running build_ext\n",
            "/home/chunwei/miniconda3/envs/flight/lib/python3.8/site-packages/torch/utils/cpp_extension.py:381: UserWarning: Attempted to use ninja as the BuildExtension backend but we could not find ninja.. Falling back to using the slow distutils backend.\n",
            "  warnings.warn(msg.format('we could not find ninja.'))\n",
            "Traceback (most recent call last):\n",
            "  File \"setup.py\", line 69, in <module>\n",
            "    setup(\n",
            "  File \"/home/chunwei/miniconda3/envs/flight/lib/python3.8/site-packages/setuptools/__init__.py\", line 87, in setup\n",
            "    return distutils.core.setup(**attrs)\n",
            "  File \"/home/chunwei/miniconda3/envs/flight/lib/python3.8/site-packages/setuptools/_distutils/core.py\", line 185, in setup\n",
            "    return run_commands(dist)\n",
            "  File \"/home/chunwei/miniconda3/envs/flight/lib/python3.8/site-packages/setuptools/_distutils/core.py\", line 201, in run_commands\n",
            "    dist.run_commands()\n",
            "  File \"/home/chunwei/miniconda3/envs/flight/lib/python3.8/site-packages/setuptools/_distutils/dist.py\", line 968, in run_commands\n",
            "    self.run_command(cmd)\n",
            "  File \"/home/chunwei/miniconda3/envs/flight/lib/python3.8/site-packages/setuptools/dist.py\", line 1217, in run_command\n",
            "    super().run_command(command)\n",
            "  File \"/home/chunwei/miniconda3/envs/flight/lib/python3.8/site-packages/setuptools/_distutils/dist.py\", line 987, in run_command\n",
            "    cmd_obj.run()\n",
            "  File \"/home/chunwei/miniconda3/envs/flight/lib/python3.8/site-packages/setuptools/_distutils/command/build.py\", line 132, in run\n",
            "    self.run_command(cmd_name)\n",
            "  File \"/home/chunwei/miniconda3/envs/flight/lib/python3.8/site-packages/setuptools/_distutils/cmd.py\", line 319, in run_command\n",
            "    self.distribution.run_command(command)\n",
            "  File \"/home/chunwei/miniconda3/envs/flight/lib/python3.8/site-packages/setuptools/dist.py\", line 1217, in run_command\n",
            "    super().run_command(command)\n",
            "  File \"/home/chunwei/miniconda3/envs/flight/lib/python3.8/site-packages/setuptools/_distutils/dist.py\", line 987, in run_command\n",
            "    cmd_obj.run()\n",
            "  File \"/home/chunwei/miniconda3/envs/flight/lib/python3.8/site-packages/setuptools/command/build_ext.py\", line 84, in run\n",
            "    _build_ext.run(self)\n",
            "  File \"/home/chunwei/miniconda3/envs/flight/lib/python3.8/site-packages/Cython/Distutils/old_build_ext.py\", line 186, in run\n",
            "    _build_ext.build_ext.run(self)\n",
            "  File \"/home/chunwei/miniconda3/envs/flight/lib/python3.8/site-packages/setuptools/_distutils/command/build_ext.py\", line 346, in run\n",
            "    self.build_extensions()\n",
            "  File \"/home/chunwei/miniconda3/envs/flight/lib/python3.8/site-packages/torch/utils/cpp_extension.py\", line 404, in build_extensions\n",
            "    self._check_cuda_version()\n",
            "  File \"/home/chunwei/miniconda3/envs/flight/lib/python3.8/site-packages/torch/utils/cpp_extension.py\", line 781, in _check_cuda_version\n",
            "    raise RuntimeError(CUDA_MISMATCH_MESSAGE.format(cuda_str_version, torch.version.cuda))\n",
            "RuntimeError: \n",
            "The detected CUDA version (10.1) mismatches the version that was used to compile\n",
            "PyTorch (11.3). Please make sure to use the same CUDA versions.\n",
            "\n",
            "/home/chunwei/Documents/drone_offboard/vision_backbones/Mask2Former/mask2former/modeling\n"
          ]
        }
      ],
      "source": [
        "# clone and install Mask2Former\n",
        "# !git clone https://github.com/facebookresearch/Mask2Former.git\n",
        "\n",
        "%cd ../../Mask2Former\n",
        "!pwd\n",
        "\n",
        "%pip install -U opencv-python\n",
        "%pip install git+https://github.com/cocodataset/panopticapi.git\n",
        "%pip install -r requirements.txt\n",
        "%cd mask2former/modeling/pixel_decoder/ops\n",
        "!python setup.py build install\n",
        "%cd ../.."
      ]
    },
    {
      "cell_type": "code",
      "execution_count": 5,
      "id": "LsJtsT_M_NCN",
      "metadata": {
        "colab": {
          "base_uri": "https://localhost:8080/"
        },
        "id": "LsJtsT_M_NCN",
        "outputId": "ccf68bbe-59c7-44ff-ad13-fd5a6ae72e72"
      },
      "outputs": [],
      "source": [
        "# Clone Dense Prediction Transformer repository\n",
        "# !git clone https://github.com/isl-org/DPT"
      ]
    },
    {
      "cell_type": "code",
      "execution_count": 6,
      "id": "USfgWItad1bs",
      "metadata": {
        "colab": {
          "base_uri": "https://localhost:8080/"
        },
        "id": "USfgWItad1bs",
        "outputId": "a7cb2a53-94d3-4a46-dded-162c4de9b8ce"
      },
      "outputs": [
        {
          "name": "stdout",
          "output_type": "stream",
          "text": [
            "Requirement already satisfied: timm==0.4.12 in /home/chunwei/miniconda3/envs/flight/lib/python3.8/site-packages (0.4.12)\n",
            "Requirement already satisfied: torch>=1.4 in /home/chunwei/miniconda3/envs/flight/lib/python3.8/site-packages (from timm==0.4.12) (1.10.0+cu113)\n",
            "Requirement already satisfied: torchvision in /home/chunwei/miniconda3/envs/flight/lib/python3.8/site-packages (from timm==0.4.12) (0.11.0+cu113)\n",
            "Requirement already satisfied: typing-extensions in /home/chunwei/miniconda3/envs/flight/lib/python3.8/site-packages (from torch>=1.4->timm==0.4.12) (4.4.0)\n",
            "Requirement already satisfied: pillow!=8.3.0,>=5.3.0 in /home/chunwei/miniconda3/envs/flight/lib/python3.8/site-packages (from torchvision->timm==0.4.12) (9.4.0)\n",
            "Requirement already satisfied: numpy in /home/chunwei/miniconda3/envs/flight/lib/python3.8/site-packages (from torchvision->timm==0.4.12) (1.23.1)\n",
            "Note: you may need to restart the kernel to use updated packages.\n",
            "Collecting einops==0.3.2\n",
            "  Downloading einops-0.3.2-py3-none-any.whl (25 kB)\n",
            "Installing collected packages: einops\n",
            "  Attempting uninstall: einops\n",
            "    Found existing installation: einops 0.6.0\n",
            "    Uninstalling einops-0.6.0:\n",
            "      Successfully uninstalled einops-0.6.0\n",
            "Successfully installed einops-0.3.2\n",
            "Note: you may need to restart the kernel to use updated packages.\n"
          ]
        }
      ],
      "source": [
        "# Clone MultiMAE repository\n",
        "# !git clone https://github.com/EPFL-VILAB/MultiMAE\n",
        "%pip install timm==0.4.12\n",
        "%pip install einops==0.3.2"
      ]
    },
    {
      "cell_type": "markdown",
      "id": "OwzkhnaeAP8M",
      "metadata": {
        "id": "OwzkhnaeAP8M"
      },
      "source": [
        "## 2 Imports and model setup\n",
        "\n",
        "**Important**: Before running the following cells, please restart the runtime **again** using the menu bar entries `Runtime > Restart runtime`"
      ]
    },
    {
      "cell_type": "markdown",
      "id": "qEAL1hmAkY-A",
      "metadata": {
        "id": "qEAL1hmAkY-A"
      },
      "source": [
        "### 2.1 Imports"
      ]
    },
    {
      "cell_type": "code",
      "execution_count": 7,
      "id": "d7cfc6a1",
      "metadata": {
        "id": "d7cfc6a1"
      },
      "outputs": [
        {
          "ename": "ModuleNotFoundError",
          "evalue": "\n\nPlease compile MultiScaleDeformableAttention CUDA op with the following commands:\n\t`cd mask2former/modeling/pixel_decoder/ops`\n\t`sh make.sh`\n",
          "output_type": "error",
          "traceback": [
            "\u001b[0;31m---------------------------------------------------------------------------\u001b[0m",
            "\u001b[0;31mModuleNotFoundError\u001b[0m                       Traceback (most recent call last)",
            "File \u001b[0;32m~/Documents/drone_offboard/vision_backbones/Mask2Former/mask2former/modeling/pixel_decoder/ops/functions/ms_deform_attn_func.py:22\u001b[0m\n\u001b[1;32m     21\u001b[0m \u001b[39mtry\u001b[39;00m:\n\u001b[0;32m---> 22\u001b[0m     \u001b[39mimport\u001b[39;00m \u001b[39mMultiScaleDeformableAttention\u001b[39;00m \u001b[39mas\u001b[39;00m \u001b[39mMSDA\u001b[39;00m\n\u001b[1;32m     23\u001b[0m \u001b[39mexcept\u001b[39;00m \u001b[39mModuleNotFoundError\u001b[39;00m \u001b[39mas\u001b[39;00m e:\n",
            "\u001b[0;31mModuleNotFoundError\u001b[0m: No module named 'MultiScaleDeformableAttention'",
            "\nDuring handling of the above exception, another exception occurred:\n",
            "\u001b[0;31mModuleNotFoundError\u001b[0m                       Traceback (most recent call last)",
            "Cell \u001b[0;32mIn[7], line 34\u001b[0m\n\u001b[1;32m     32\u001b[0m \u001b[39mfrom\u001b[39;00m \u001b[39mdetectron2\u001b[39;00m\u001b[39m.\u001b[39;00m\u001b[39mprojects\u001b[39;00m\u001b[39m.\u001b[39;00m\u001b[39mdeeplab\u001b[39;00m \u001b[39mimport\u001b[39;00m add_deeplab_config\n\u001b[1;32m     33\u001b[0m coco_metadata \u001b[39m=\u001b[39m MetadataCatalog\u001b[39m.\u001b[39mget(\u001b[39m\"\u001b[39m\u001b[39mcoco_2017_val_panoptic\u001b[39m\u001b[39m\"\u001b[39m)\n\u001b[0;32m---> 34\u001b[0m \u001b[39mfrom\u001b[39;00m \u001b[39mmask2former\u001b[39;00m \u001b[39mimport\u001b[39;00m add_maskformer2_config\n\u001b[1;32m     36\u001b[0m \u001b[39m# DPT dependencies for depth pseudo labeling\u001b[39;00m\n\u001b[1;32m     37\u001b[0m \u001b[39mfrom\u001b[39;00m \u001b[39mdpt\u001b[39;00m\u001b[39m.\u001b[39;00m\u001b[39mmodels\u001b[39;00m \u001b[39mimport\u001b[39;00m DPTDepthModel\n",
            "File \u001b[0;32m~/Documents/drone_offboard/vision_backbones/Mask2Former/mask2former/__init__.py:3\u001b[0m\n\u001b[1;32m      1\u001b[0m \u001b[39m# Copyright (c) Facebook, Inc. and its affiliates.\u001b[39;00m\n\u001b[1;32m      2\u001b[0m \u001b[39mfrom\u001b[39;00m \u001b[39m.\u001b[39;00m \u001b[39mimport\u001b[39;00m data  \u001b[39m# register all new datasets\u001b[39;00m\n\u001b[0;32m----> 3\u001b[0m \u001b[39mfrom\u001b[39;00m \u001b[39m.\u001b[39;00m \u001b[39mimport\u001b[39;00m modeling\n\u001b[1;32m      5\u001b[0m \u001b[39m# config\u001b[39;00m\n\u001b[1;32m      6\u001b[0m \u001b[39mfrom\u001b[39;00m \u001b[39m.\u001b[39;00m\u001b[39mconfig\u001b[39;00m \u001b[39mimport\u001b[39;00m add_maskformer2_config\n",
            "File \u001b[0;32m~/Documents/drone_offboard/vision_backbones/Mask2Former/mask2former/modeling/__init__.py:4\u001b[0m\n\u001b[1;32m      2\u001b[0m \u001b[39mfrom\u001b[39;00m \u001b[39m.\u001b[39;00m\u001b[39mbackbone\u001b[39;00m\u001b[39m.\u001b[39;00m\u001b[39mswin\u001b[39;00m \u001b[39mimport\u001b[39;00m D2SwinTransformer\n\u001b[1;32m      3\u001b[0m \u001b[39mfrom\u001b[39;00m \u001b[39m.\u001b[39;00m\u001b[39mpixel_decoder\u001b[39;00m\u001b[39m.\u001b[39;00m\u001b[39mfpn\u001b[39;00m \u001b[39mimport\u001b[39;00m BasePixelDecoder\n\u001b[0;32m----> 4\u001b[0m \u001b[39mfrom\u001b[39;00m \u001b[39m.\u001b[39;00m\u001b[39mpixel_decoder\u001b[39;00m\u001b[39m.\u001b[39;00m\u001b[39mmsdeformattn\u001b[39;00m \u001b[39mimport\u001b[39;00m MSDeformAttnPixelDecoder\n\u001b[1;32m      5\u001b[0m \u001b[39mfrom\u001b[39;00m \u001b[39m.\u001b[39;00m\u001b[39mmeta_arch\u001b[39;00m\u001b[39m.\u001b[39;00m\u001b[39mmask_former_head\u001b[39;00m \u001b[39mimport\u001b[39;00m MaskFormerHead\n\u001b[1;32m      6\u001b[0m \u001b[39mfrom\u001b[39;00m \u001b[39m.\u001b[39;00m\u001b[39mmeta_arch\u001b[39;00m\u001b[39m.\u001b[39;00m\u001b[39mper_pixel_baseline\u001b[39;00m \u001b[39mimport\u001b[39;00m PerPixelBaselineHead, PerPixelBaselinePlusHead\n",
            "File \u001b[0;32m~/Documents/drone_offboard/vision_backbones/Mask2Former/mask2former/modeling/pixel_decoder/msdeformattn.py:19\u001b[0m\n\u001b[1;32m     17\u001b[0m \u001b[39mfrom\u001b[39;00m \u001b[39m.\u001b[39;00m\u001b[39m.\u001b[39;00m\u001b[39mtransformer_decoder\u001b[39;00m\u001b[39m.\u001b[39;00m\u001b[39mposition_encoding\u001b[39;00m \u001b[39mimport\u001b[39;00m PositionEmbeddingSine\n\u001b[1;32m     18\u001b[0m \u001b[39mfrom\u001b[39;00m \u001b[39m.\u001b[39;00m\u001b[39m.\u001b[39;00m\u001b[39mtransformer_decoder\u001b[39;00m\u001b[39m.\u001b[39;00m\u001b[39mtransformer\u001b[39;00m \u001b[39mimport\u001b[39;00m _get_clones, _get_activation_fn\n\u001b[0;32m---> 19\u001b[0m \u001b[39mfrom\u001b[39;00m \u001b[39m.\u001b[39;00m\u001b[39mops\u001b[39;00m\u001b[39m.\u001b[39;00m\u001b[39mmodules\u001b[39;00m \u001b[39mimport\u001b[39;00m MSDeformAttn\n\u001b[1;32m     22\u001b[0m \u001b[39m# MSDeformAttn Transformer encoder in deformable detr\u001b[39;00m\n\u001b[1;32m     23\u001b[0m \u001b[39mclass\u001b[39;00m \u001b[39mMSDeformAttnTransformerEncoderOnly\u001b[39;00m(nn\u001b[39m.\u001b[39mModule):\n",
            "File \u001b[0;32m~/Documents/drone_offboard/vision_backbones/Mask2Former/mask2former/modeling/pixel_decoder/ops/modules/__init__.py:12\u001b[0m\n\u001b[1;32m      1\u001b[0m \u001b[39m# ------------------------------------------------------------------------------------------------\u001b[39;00m\n\u001b[1;32m      2\u001b[0m \u001b[39m# Deformable DETR\u001b[39;00m\n\u001b[1;32m      3\u001b[0m \u001b[39m# Copyright (c) 2020 SenseTime. All Rights Reserved.\u001b[39;00m\n\u001b[0;32m   (...)\u001b[0m\n\u001b[1;32m      9\u001b[0m \u001b[39m# Copyright (c) Facebook, Inc. and its affiliates.\u001b[39;00m\n\u001b[1;32m     10\u001b[0m \u001b[39m# Modified by Bowen Cheng from https://github.com/fundamentalvision/Deformable-DETR\u001b[39;00m\n\u001b[0;32m---> 12\u001b[0m \u001b[39mfrom\u001b[39;00m \u001b[39m.\u001b[39;00m\u001b[39mms_deform_attn\u001b[39;00m \u001b[39mimport\u001b[39;00m MSDeformAttn\n",
            "File \u001b[0;32m~/Documents/drone_offboard/vision_backbones/Mask2Former/mask2former/modeling/pixel_decoder/ops/modules/ms_deform_attn.py:24\u001b[0m\n\u001b[1;32m     21\u001b[0m \u001b[39mimport\u001b[39;00m \u001b[39mtorch\u001b[39;00m\u001b[39m.\u001b[39;00m\u001b[39mnn\u001b[39;00m\u001b[39m.\u001b[39;00m\u001b[39mfunctional\u001b[39;00m \u001b[39mas\u001b[39;00m \u001b[39mF\u001b[39;00m\n\u001b[1;32m     22\u001b[0m \u001b[39mfrom\u001b[39;00m \u001b[39mtorch\u001b[39;00m\u001b[39m.\u001b[39;00m\u001b[39mnn\u001b[39;00m\u001b[39m.\u001b[39;00m\u001b[39minit\u001b[39;00m \u001b[39mimport\u001b[39;00m xavier_uniform_, constant_\n\u001b[0;32m---> 24\u001b[0m \u001b[39mfrom\u001b[39;00m \u001b[39m.\u001b[39;00m\u001b[39m.\u001b[39;00m\u001b[39mfunctions\u001b[39;00m \u001b[39mimport\u001b[39;00m MSDeformAttnFunction\n\u001b[1;32m     25\u001b[0m \u001b[39mfrom\u001b[39;00m \u001b[39m.\u001b[39;00m\u001b[39m.\u001b[39;00m\u001b[39mfunctions\u001b[39;00m\u001b[39m.\u001b[39;00m\u001b[39mms_deform_attn_func\u001b[39;00m \u001b[39mimport\u001b[39;00m ms_deform_attn_core_pytorch\n\u001b[1;32m     28\u001b[0m \u001b[39mdef\u001b[39;00m \u001b[39m_is_power_of_2\u001b[39m(n):\n",
            "File \u001b[0;32m~/Documents/drone_offboard/vision_backbones/Mask2Former/mask2former/modeling/pixel_decoder/ops/functions/__init__.py:12\u001b[0m\n\u001b[1;32m      1\u001b[0m \u001b[39m# ------------------------------------------------------------------------------------------------\u001b[39;00m\n\u001b[1;32m      2\u001b[0m \u001b[39m# Deformable DETR\u001b[39;00m\n\u001b[1;32m      3\u001b[0m \u001b[39m# Copyright (c) 2020 SenseTime. All Rights Reserved.\u001b[39;00m\n\u001b[0;32m   (...)\u001b[0m\n\u001b[1;32m      9\u001b[0m \u001b[39m# Copyright (c) Facebook, Inc. and its affiliates.\u001b[39;00m\n\u001b[1;32m     10\u001b[0m \u001b[39m# Modified by Bowen Cheng from https://github.com/fundamentalvision/Deformable-DETR\u001b[39;00m\n\u001b[0;32m---> 12\u001b[0m \u001b[39mfrom\u001b[39;00m \u001b[39m.\u001b[39;00m\u001b[39mms_deform_attn_func\u001b[39;00m \u001b[39mimport\u001b[39;00m MSDeformAttnFunction\n",
            "File \u001b[0;32m~/Documents/drone_offboard/vision_backbones/Mask2Former/mask2former/modeling/pixel_decoder/ops/functions/ms_deform_attn_func.py:29\u001b[0m\n\u001b[1;32m     23\u001b[0m \u001b[39mexcept\u001b[39;00m \u001b[39mModuleNotFoundError\u001b[39;00m \u001b[39mas\u001b[39;00m e:\n\u001b[1;32m     24\u001b[0m     info_string \u001b[39m=\u001b[39m (\n\u001b[1;32m     25\u001b[0m         \u001b[39m\"\u001b[39m\u001b[39m\\n\u001b[39;00m\u001b[39m\\n\u001b[39;00m\u001b[39mPlease compile MultiScaleDeformableAttention CUDA op with the following commands:\u001b[39m\u001b[39m\\n\u001b[39;00m\u001b[39m\"\u001b[39m\n\u001b[1;32m     26\u001b[0m         \u001b[39m\"\u001b[39m\u001b[39m\\t\u001b[39;00m\u001b[39m`cd mask2former/modeling/pixel_decoder/ops`\u001b[39m\u001b[39m\\n\u001b[39;00m\u001b[39m\"\u001b[39m\n\u001b[1;32m     27\u001b[0m         \u001b[39m\"\u001b[39m\u001b[39m\\t\u001b[39;00m\u001b[39m`sh make.sh`\u001b[39m\u001b[39m\\n\u001b[39;00m\u001b[39m\"\u001b[39m\n\u001b[1;32m     28\u001b[0m     )\n\u001b[0;32m---> 29\u001b[0m     \u001b[39mraise\u001b[39;00m \u001b[39mModuleNotFoundError\u001b[39;00m(info_string)\n\u001b[1;32m     32\u001b[0m \u001b[39mclass\u001b[39;00m \u001b[39mMSDeformAttnFunction\u001b[39;00m(Function):\n\u001b[1;32m     33\u001b[0m     \u001b[39m@staticmethod\u001b[39m\n\u001b[1;32m     34\u001b[0m     \u001b[39mdef\u001b[39;00m \u001b[39mforward\u001b[39m(ctx, value, value_spatial_shapes, value_level_start_index, sampling_locations, attention_weights, im2col_step):\n",
            "\u001b[0;31mModuleNotFoundError\u001b[0m: \n\nPlease compile MultiScaleDeformableAttention CUDA op with the following commands:\n\t`cd mask2former/modeling/pixel_decoder/ops`\n\t`sh make.sh`\n"
          ]
        }
      ],
      "source": [
        "import sys\n",
        "sys.path.append(\"./Mask2Former\")\n",
        "sys.path.append(\"./DPT\")\n",
        "sys.path.append(\"./MultiMAE\")\n",
        "\n",
        "# To supress DPT and Mask2Former warnings\n",
        "import warnings\n",
        "warnings.filterwarnings(\"ignore\")\n",
        "\n",
        "import os\n",
        "from tqdm import tqdm\n",
        "import random\n",
        "from functools import partial\n",
        "\n",
        "import numpy as np\n",
        "import torch\n",
        "import torch.nn.functional as F\n",
        "import torchvision.transforms.functional as TF\n",
        "from torchvision import datasets, transforms\n",
        "from einops import rearrange\n",
        "\n",
        "from PIL import Image\n",
        "import matplotlib.pyplot as plt\n",
        "from mpl_toolkits.axes_grid1 import ImageGrid\n",
        "\n",
        "# Mask2Former and detectron2 dependencies for semantic segmentation pseudo labeling\n",
        "from detectron2.utils.visualizer import ColorMode, Visualizer\n",
        "from detectron2.data import MetadataCatalog\n",
        "from detectron2 import model_zoo\n",
        "from detectron2.engine import DefaultPredictor\n",
        "from detectron2.config import get_cfg\n",
        "from detectron2.projects.deeplab import add_deeplab_config\n",
        "coco_metadata = MetadataCatalog.get(\"coco_2017_val_panoptic\")\n",
        "from mask2former import add_maskformer2_config\n",
        "\n",
        "# DPT dependencies for depth pseudo labeling\n",
        "from dpt.models import DPTDepthModel\n",
        "\n",
        "from multimae.models.input_adapters import PatchedInputAdapter, SemSegInputAdapter\n",
        "from multimae.models.output_adapters import SpatialOutputAdapter\n",
        "from multimae.models.multimae import pretrain_multimae_base\n",
        "from multimae.utils.data_constants import IMAGENET_DEFAULT_MEAN, IMAGENET_DEFAULT_STD\n",
        "\n",
        "torch.set_grad_enabled(False)\n",
        "device = 'cuda' if torch.cuda.is_available() else 'cpu'"
      ]
    },
    {
      "cell_type": "markdown",
      "id": "ChHY7ibfkfTq",
      "metadata": {
        "id": "ChHY7ibfkfTq"
      },
      "source": [
        "### 2.2 Pseudo labeling model setup"
      ]
    },
    {
      "cell_type": "code",
      "execution_count": null,
      "id": "fXv_X05zEekt",
      "metadata": {
        "colab": {
          "base_uri": "https://localhost:8080/"
        },
        "id": "fXv_X05zEekt",
        "outputId": "49a9c3ff-e743-4cb7-854a-b71678ca435c"
      },
      "outputs": [],
      "source": [
        "# Initialize Omnidata depth model\n",
        "\n",
        "!wget https://datasets.epfl.ch/vilab/iccv21/weights/omnidata_rgb2depth_dpt_hybrid.pth -P pretrained_models\n",
        "\n",
        "omnidata_ckpt = torch.load('./pretrained_models/omnidata_rgb2depth_dpt_hybrid.pth', map_location='cpu')\n",
        "depth_model = DPTDepthModel()\n",
        "depth_model.load_state_dict(omnidata_ckpt)\n",
        "depth_model = depth_model.to(device).eval()\n",
        "\n",
        "def predict_depth(img):\n",
        "  depth_model_input = (img.unsqueeze(0) - 0.5) / 0.5\n",
        "  return depth_model(depth_model_input.to(device))"
      ]
    },
    {
      "cell_type": "code",
      "execution_count": null,
      "id": "sw8GTaIIivc5",
      "metadata": {
        "colab": {
          "base_uri": "https://localhost:8080/"
        },
        "id": "sw8GTaIIivc5",
        "outputId": "ea43c069-695d-42ec-eeff-bc7095829740"
      },
      "outputs": [],
      "source": [
        "# COCO Mask2Former\n",
        "\n",
        "cfg = get_cfg()\n",
        "add_deeplab_config(cfg)\n",
        "add_maskformer2_config(cfg)\n",
        "cfg.merge_from_file(\"../Mask2Former/configs/coco/panoptic-segmentation/swin/maskformer2_swin_small_bs16_50ep.yaml\")\n",
        "cfg.MODEL.WEIGHTS = 'https://dl.fbaipublicfiles.com/maskformer/mask2former/coco/panoptic/maskformer2_swin_small_bs16_50ep/model_final_a407fd.pkl'\n",
        "cfg.MODEL.MASK_FORMER.TEST.SEMANTIC_ON = True\n",
        "cfg.MODEL.MASK_FORMER.TEST.INSTANCE_ON = True\n",
        "cfg.MODEL.MASK_FORMER.TEST.PANOPTIC_ON = True\n",
        "semseg_model = DefaultPredictor(cfg)\n",
        "\n",
        "def predict_semseg(img):\n",
        "  return semseg_model(255*img.permute(1,2,0).numpy())['sem_seg'].argmax(0)\n",
        "\n",
        "def plot_semseg(img, semseg, ax):\n",
        "  v = Visualizer(img.permute(1,2,0), coco_metadata, scale=1.2, instance_mode=ColorMode.IMAGE_BW)\n",
        "  semantic_result = v.draw_sem_seg(semseg.cpu()).get_image()\n",
        "  ax.imshow(semantic_result)"
      ]
    },
    {
      "cell_type": "markdown",
      "id": "647cd32b",
      "metadata": {
        "id": "647cd32b"
      },
      "source": [
        "### 2.3  MultiMAE model setup"
      ]
    },
    {
      "cell_type": "code",
      "execution_count": null,
      "id": "c4bd51fe",
      "metadata": {
        "colab": {
          "base_uri": "https://localhost:8080/",
          "referenced_widgets": [
            "767e11ba0ade4a14a5993996dd1b818c",
            "c6494a220fa140e2bfecdb290c06b040",
            "e2f78e9b0c934a1291c8ae26fdd72a5e",
            "6883913b3c5643748171823742f1ec8f",
            "50c25270286544008bc901a61a20829a",
            "567d153adc574b4e8c72c56b49387964",
            "21aa0fa877c5428fba5d61a93926dda1",
            "1ab0b48c8bff4b61b4a5ae0631c0ef0e",
            "21bcfdad2ee54413bad7833268a98199",
            "9405819b0aca4a97b4f704ef59c8bab9",
            "862038df210d4848866541013d13f363"
          ]
        },
        "id": "c4bd51fe",
        "outputId": "80c5a3b7-2202-400b-f60b-3cf806d5035a"
      },
      "outputs": [],
      "source": [
        "DOMAIN_CONF = {\n",
        "    'rgb': {\n",
        "        'input_adapter': partial(PatchedInputAdapter, num_channels=3, stride_level=1),\n",
        "        'output_adapter': partial(SpatialOutputAdapter, num_channels=3, stride_level=1),\n",
        "    },\n",
        "    'depth': {\n",
        "        'input_adapter': partial(PatchedInputAdapter, num_channels=1, stride_level=1),\n",
        "        'output_adapter': partial(SpatialOutputAdapter, num_channels=1, stride_level=1),\n",
        "    },\n",
        "    'semseg': {\n",
        "        'input_adapter': partial(SemSegInputAdapter, num_classes=133,\n",
        "                                 dim_class_emb=64, interpolate_class_emb=False, stride_level=4),\n",
        "        'output_adapter': partial(SpatialOutputAdapter, num_channels=133, stride_level=4),\n",
        "    },\n",
        "}\n",
        "DOMAINS = ['rgb', 'depth', 'semseg']\n",
        "\n",
        "input_adapters = {\n",
        "    domain: dinfo['input_adapter'](\n",
        "        patch_size_full=16,\n",
        "    )\n",
        "    for domain, dinfo in DOMAIN_CONF.items()\n",
        "}\n",
        "output_adapters = {\n",
        "    domain: dinfo['output_adapter'](\n",
        "        patch_size_full=16,\n",
        "        dim_tokens=256,\n",
        "        use_task_queries=True,\n",
        "        depth=2,\n",
        "        context_tasks=DOMAINS,\n",
        "        task=domain\n",
        "    )\n",
        "    for domain, dinfo in DOMAIN_CONF.items()\n",
        "}\n",
        "\n",
        "multimae = pretrain_multimae_base(\n",
        "    input_adapters=input_adapters,\n",
        "    output_adapters=output_adapters,\n",
        ")\n",
        "\n",
        "CKPT_URL = 'https://github.com/EPFL-VILAB/MultiMAE/releases/download/pretrained-weights/multimae-b_98_rgb+-depth-semseg_1600e_multivit-afff3f8c.pth'\n",
        "ckpt = torch.hub.load_state_dict_from_url(CKPT_URL, map_location='cpu')\n",
        "multimae.load_state_dict(ckpt['model'], strict=False)\n",
        "multimae = multimae.to(device).eval()\n"
      ]
    }
  ],
  "metadata": {
    "accelerator": "GPU",
    "colab": {
      "collapsed_sections": [
        "uIv8bdqZ37fj",
        "qEAL1hmAkY-A",
        "ChHY7ibfkfTq",
        "647cd32b",
        "76d25ba6"
      ],
      "name": "MultiMAE Demo.ipynb",
      "provenance": [],
      "toc_visible": true
    },
    "kernelspec": {
      "display_name": "flight",
      "language": "python",
      "name": "python3"
    },
    "language_info": {
      "codemirror_mode": {
        "name": "ipython",
        "version": 3
      },
      "file_extension": ".py",
      "mimetype": "text/x-python",
      "name": "python",
      "nbconvert_exporter": "python",
      "pygments_lexer": "ipython3",
      "version": "3.8.15"
    },
    "vscode": {
      "interpreter": {
        "hash": "b5007674d9367f202903ad40bbfe5061e981a21fff3e651992d51e1cbbc95975"
      }
    },
    "widgets": {
      "application/vnd.jupyter.widget-state+json": {
        "1ab0b48c8bff4b61b4a5ae0631c0ef0e": {
          "model_module": "@jupyter-widgets/base",
          "model_module_version": "1.2.0",
          "model_name": "LayoutModel",
          "state": {
            "_model_module": "@jupyter-widgets/base",
            "_model_module_version": "1.2.0",
            "_model_name": "LayoutModel",
            "_view_count": null,
            "_view_module": "@jupyter-widgets/base",
            "_view_module_version": "1.2.0",
            "_view_name": "LayoutView",
            "align_content": null,
            "align_items": null,
            "align_self": null,
            "border": null,
            "bottom": null,
            "display": null,
            "flex": null,
            "flex_flow": null,
            "grid_area": null,
            "grid_auto_columns": null,
            "grid_auto_flow": null,
            "grid_auto_rows": null,
            "grid_column": null,
            "grid_gap": null,
            "grid_row": null,
            "grid_template_areas": null,
            "grid_template_columns": null,
            "grid_template_rows": null,
            "height": null,
            "justify_content": null,
            "justify_items": null,
            "left": null,
            "margin": null,
            "max_height": null,
            "max_width": null,
            "min_height": null,
            "min_width": null,
            "object_fit": null,
            "object_position": null,
            "order": null,
            "overflow": null,
            "overflow_x": null,
            "overflow_y": null,
            "padding": null,
            "right": null,
            "top": null,
            "visibility": null,
            "width": null
          }
        },
        "21aa0fa877c5428fba5d61a93926dda1": {
          "model_module": "@jupyter-widgets/controls",
          "model_module_version": "1.5.0",
          "model_name": "DescriptionStyleModel",
          "state": {
            "_model_module": "@jupyter-widgets/controls",
            "_model_module_version": "1.5.0",
            "_model_name": "DescriptionStyleModel",
            "_view_count": null,
            "_view_module": "@jupyter-widgets/base",
            "_view_module_version": "1.2.0",
            "_view_name": "StyleView",
            "description_width": ""
          }
        },
        "21bcfdad2ee54413bad7833268a98199": {
          "model_module": "@jupyter-widgets/controls",
          "model_module_version": "1.5.0",
          "model_name": "ProgressStyleModel",
          "state": {
            "_model_module": "@jupyter-widgets/controls",
            "_model_module_version": "1.5.0",
            "_model_name": "ProgressStyleModel",
            "_view_count": null,
            "_view_module": "@jupyter-widgets/base",
            "_view_module_version": "1.2.0",
            "_view_name": "StyleView",
            "bar_color": null,
            "description_width": ""
          }
        },
        "50c25270286544008bc901a61a20829a": {
          "model_module": "@jupyter-widgets/base",
          "model_module_version": "1.2.0",
          "model_name": "LayoutModel",
          "state": {
            "_model_module": "@jupyter-widgets/base",
            "_model_module_version": "1.2.0",
            "_model_name": "LayoutModel",
            "_view_count": null,
            "_view_module": "@jupyter-widgets/base",
            "_view_module_version": "1.2.0",
            "_view_name": "LayoutView",
            "align_content": null,
            "align_items": null,
            "align_self": null,
            "border": null,
            "bottom": null,
            "display": null,
            "flex": null,
            "flex_flow": null,
            "grid_area": null,
            "grid_auto_columns": null,
            "grid_auto_flow": null,
            "grid_auto_rows": null,
            "grid_column": null,
            "grid_gap": null,
            "grid_row": null,
            "grid_template_areas": null,
            "grid_template_columns": null,
            "grid_template_rows": null,
            "height": null,
            "justify_content": null,
            "justify_items": null,
            "left": null,
            "margin": null,
            "max_height": null,
            "max_width": null,
            "min_height": null,
            "min_width": null,
            "object_fit": null,
            "object_position": null,
            "order": null,
            "overflow": null,
            "overflow_x": null,
            "overflow_y": null,
            "padding": null,
            "right": null,
            "top": null,
            "visibility": null,
            "width": null
          }
        },
        "567d153adc574b4e8c72c56b49387964": {
          "model_module": "@jupyter-widgets/base",
          "model_module_version": "1.2.0",
          "model_name": "LayoutModel",
          "state": {
            "_model_module": "@jupyter-widgets/base",
            "_model_module_version": "1.2.0",
            "_model_name": "LayoutModel",
            "_view_count": null,
            "_view_module": "@jupyter-widgets/base",
            "_view_module_version": "1.2.0",
            "_view_name": "LayoutView",
            "align_content": null,
            "align_items": null,
            "align_self": null,
            "border": null,
            "bottom": null,
            "display": null,
            "flex": null,
            "flex_flow": null,
            "grid_area": null,
            "grid_auto_columns": null,
            "grid_auto_flow": null,
            "grid_auto_rows": null,
            "grid_column": null,
            "grid_gap": null,
            "grid_row": null,
            "grid_template_areas": null,
            "grid_template_columns": null,
            "grid_template_rows": null,
            "height": null,
            "justify_content": null,
            "justify_items": null,
            "left": null,
            "margin": null,
            "max_height": null,
            "max_width": null,
            "min_height": null,
            "min_width": null,
            "object_fit": null,
            "object_position": null,
            "order": null,
            "overflow": null,
            "overflow_x": null,
            "overflow_y": null,
            "padding": null,
            "right": null,
            "top": null,
            "visibility": null,
            "width": null
          }
        },
        "6883913b3c5643748171823742f1ec8f": {
          "model_module": "@jupyter-widgets/controls",
          "model_module_version": "1.5.0",
          "model_name": "HTMLModel",
          "state": {
            "_dom_classes": [],
            "_model_module": "@jupyter-widgets/controls",
            "_model_module_version": "1.5.0",
            "_model_name": "HTMLModel",
            "_view_count": null,
            "_view_module": "@jupyter-widgets/controls",
            "_view_module_version": "1.5.0",
            "_view_name": "HTMLView",
            "description": "",
            "description_tooltip": null,
            "layout": "IPY_MODEL_9405819b0aca4a97b4f704ef59c8bab9",
            "placeholder": "​",
            "style": "IPY_MODEL_862038df210d4848866541013d13f363",
            "value": " 376M/376M [00:10&lt;00:00, 34.5MB/s]"
          }
        },
        "767e11ba0ade4a14a5993996dd1b818c": {
          "model_module": "@jupyter-widgets/controls",
          "model_module_version": "1.5.0",
          "model_name": "HBoxModel",
          "state": {
            "_dom_classes": [],
            "_model_module": "@jupyter-widgets/controls",
            "_model_module_version": "1.5.0",
            "_model_name": "HBoxModel",
            "_view_count": null,
            "_view_module": "@jupyter-widgets/controls",
            "_view_module_version": "1.5.0",
            "_view_name": "HBoxView",
            "box_style": "",
            "children": [
              "IPY_MODEL_c6494a220fa140e2bfecdb290c06b040",
              "IPY_MODEL_e2f78e9b0c934a1291c8ae26fdd72a5e",
              "IPY_MODEL_6883913b3c5643748171823742f1ec8f"
            ],
            "layout": "IPY_MODEL_50c25270286544008bc901a61a20829a"
          }
        },
        "862038df210d4848866541013d13f363": {
          "model_module": "@jupyter-widgets/controls",
          "model_module_version": "1.5.0",
          "model_name": "DescriptionStyleModel",
          "state": {
            "_model_module": "@jupyter-widgets/controls",
            "_model_module_version": "1.5.0",
            "_model_name": "DescriptionStyleModel",
            "_view_count": null,
            "_view_module": "@jupyter-widgets/base",
            "_view_module_version": "1.2.0",
            "_view_name": "StyleView",
            "description_width": ""
          }
        },
        "9405819b0aca4a97b4f704ef59c8bab9": {
          "model_module": "@jupyter-widgets/base",
          "model_module_version": "1.2.0",
          "model_name": "LayoutModel",
          "state": {
            "_model_module": "@jupyter-widgets/base",
            "_model_module_version": "1.2.0",
            "_model_name": "LayoutModel",
            "_view_count": null,
            "_view_module": "@jupyter-widgets/base",
            "_view_module_version": "1.2.0",
            "_view_name": "LayoutView",
            "align_content": null,
            "align_items": null,
            "align_self": null,
            "border": null,
            "bottom": null,
            "display": null,
            "flex": null,
            "flex_flow": null,
            "grid_area": null,
            "grid_auto_columns": null,
            "grid_auto_flow": null,
            "grid_auto_rows": null,
            "grid_column": null,
            "grid_gap": null,
            "grid_row": null,
            "grid_template_areas": null,
            "grid_template_columns": null,
            "grid_template_rows": null,
            "height": null,
            "justify_content": null,
            "justify_items": null,
            "left": null,
            "margin": null,
            "max_height": null,
            "max_width": null,
            "min_height": null,
            "min_width": null,
            "object_fit": null,
            "object_position": null,
            "order": null,
            "overflow": null,
            "overflow_x": null,
            "overflow_y": null,
            "padding": null,
            "right": null,
            "top": null,
            "visibility": null,
            "width": null
          }
        },
        "c6494a220fa140e2bfecdb290c06b040": {
          "model_module": "@jupyter-widgets/controls",
          "model_module_version": "1.5.0",
          "model_name": "HTMLModel",
          "state": {
            "_dom_classes": [],
            "_model_module": "@jupyter-widgets/controls",
            "_model_module_version": "1.5.0",
            "_model_name": "HTMLModel",
            "_view_count": null,
            "_view_module": "@jupyter-widgets/controls",
            "_view_module_version": "1.5.0",
            "_view_name": "HTMLView",
            "description": "",
            "description_tooltip": null,
            "layout": "IPY_MODEL_567d153adc574b4e8c72c56b49387964",
            "placeholder": "​",
            "style": "IPY_MODEL_21aa0fa877c5428fba5d61a93926dda1",
            "value": "100%"
          }
        },
        "e2f78e9b0c934a1291c8ae26fdd72a5e": {
          "model_module": "@jupyter-widgets/controls",
          "model_module_version": "1.5.0",
          "model_name": "FloatProgressModel",
          "state": {
            "_dom_classes": [],
            "_model_module": "@jupyter-widgets/controls",
            "_model_module_version": "1.5.0",
            "_model_name": "FloatProgressModel",
            "_view_count": null,
            "_view_module": "@jupyter-widgets/controls",
            "_view_module_version": "1.5.0",
            "_view_name": "ProgressView",
            "bar_style": "success",
            "description": "",
            "description_tooltip": null,
            "layout": "IPY_MODEL_1ab0b48c8bff4b61b4a5ae0631c0ef0e",
            "max": 394406915,
            "min": 0,
            "orientation": "horizontal",
            "style": "IPY_MODEL_21bcfdad2ee54413bad7833268a98199",
            "value": 394406915
          }
        }
      }
    }
  },
  "nbformat": 4,
  "nbformat_minor": 5
}

{
  "cells": [
    {
      "cell_type": "markdown",
      "id": "CQFqYxle3xfs",
      "metadata": {
        "id": "CQFqYxle3xfs"
      },
      "source": [
        "# MultiMAE: Multi-modal Multi-task Masked Autoencoders\n",
        "\n"
      ]
    },
    {
      "cell_type": "markdown",
      "id": "YNrydfP6g2zV",
      "metadata": {
        "id": "YNrydfP6g2zV"
      },
      "source": [
        "**Important:** This notebook requires a GPU for installing certain dependencies. Let's see which one we got here:"
      ]
    },
    {
      "cell_type": "code",
      "execution_count": 1,
      "id": "zrv-ZKGG3i9Q",
      "metadata": {
        "colab": {
          "base_uri": "https://localhost:8080/"
        },
        "id": "zrv-ZKGG3i9Q",
        "outputId": "ceebd0d7-d3b2-47c7-e14c-4bb543f7fa5d"
      },
      "outputs": [
        {
          "name": "stdout",
          "output_type": "stream",
          "text": [
            "Fri Mar 10 10:35:16 2023       \n",
            "+-----------------------------------------------------------------------------+\n",
            "| NVIDIA-SMI 470.161.03   Driver Version: 470.161.03   CUDA Version: 11.4     |\n",
            "|-------------------------------+----------------------+----------------------+\n",
            "| GPU  Name        Persistence-M| Bus-Id        Disp.A | Volatile Uncorr. ECC |\n",
            "| Fan  Temp  Perf  Pwr:Usage/Cap|         Memory-Usage | GPU-Util  Compute M. |\n",
            "|                               |                      |               MIG M. |\n",
            "|===============================+======================+======================|\n",
            "|   0  NVIDIA TITAN RTX    Off  | 00000000:01:00.0  On |                  N/A |\n",
            "| 41%   33C    P8    26W / 280W |    277MiB / 24211MiB |      0%      Default |\n",
            "|                               |                      |                  N/A |\n",
            "+-------------------------------+----------------------+----------------------+\n",
            "                                                                               \n",
            "+-----------------------------------------------------------------------------+\n",
            "| Processes:                                                                  |\n",
            "|  GPU   GI   CI        PID   Type   Process name                  GPU Memory |\n",
            "|        ID   ID                                                   Usage      |\n",
            "|=============================================================================|\n",
            "|    0   N/A  N/A      1117      G   /usr/lib/xorg/Xorg                 35MiB |\n",
            "|    0   N/A  N/A      1690      G   /usr/lib/xorg/Xorg                 90MiB |\n",
            "|    0   N/A  N/A      1819      G   /usr/bin/gnome-shell              130MiB |\n",
            "+-----------------------------------------------------------------------------+\n"
          ]
        }
      ],
      "source": [
        "!nvidia-smi"
      ]
    },
    {
      "cell_type": "markdown",
      "id": "uIv8bdqZ37fj",
      "metadata": {
        "id": "uIv8bdqZ37fj"
      },
      "source": [
        "## 1 Install dependencies\n",
        "\n",
        "These cells download the MultiMAE code base, as well as the DPT and Mask2Former repositories that are used to pseudo label RGB images.\n",
        "\n",
        "First, we need to downgrade PyTorch to version 1.10.0 due to compatibility issues with Detectron2. Make sure to restart the runtime once after reinstalling PyTorch, and once after installing all other packages."
      ]
    },
    {
      "cell_type": "markdown",
      "id": "zb32NSYljwZ7",
      "metadata": {
        "id": "zb32NSYljwZ7"
      },
      "source": [
        "### 1.1 Downgrade PyTorch"
      ]
    },
    {
      "cell_type": "code",
      "execution_count": 2,
      "id": "aaGp2w6LfYJv",
      "metadata": {
        "colab": {
          "base_uri": "https://localhost:8080/"
        },
        "id": "aaGp2w6LfYJv",
        "outputId": "52ac9a52-cfa3-4c9e-e43d-f9c52cab9069"
      },
      "outputs": [
        {
          "name": "stdout",
          "output_type": "stream",
          "text": [
            "Found existing installation: torch 1.10.0\n",
            "Uninstalling torch-1.10.0:\n",
            "  Successfully uninstalled torch-1.10.0\n",
            "Found existing installation: torchvision 0.11.1\n",
            "Uninstalling torchvision-0.11.1:\n",
            "  Successfully uninstalled torchvision-0.11.1\n",
            "\u001b[33mWARNING: Skipping torchaudio as it is not installed.\u001b[0m\u001b[33m\n",
            "\u001b[0m\u001b[33mWARNING: Skipping torchtext as it is not installed.\u001b[0m\u001b[33m\n",
            "\u001b[0mNote: you may need to restart the kernel to use updated packages.\n",
            "Looking in links: https://download.pytorch.org/whl/torch_stable.html\n",
            "Collecting torch==1.10.0+cu113\n",
            "  Downloading https://download.pytorch.org/whl/cu113/torch-1.10.0%2Bcu113-cp38-cp38-linux_x86_64.whl (1821.4 MB)\n",
            "\u001b[2K     \u001b[90m━━━━━━━━━━━━━━━━━━━━━━━━━━━━━━━━━━━━━━━━\u001b[0m \u001b[32m1.8/1.8 GB\u001b[0m \u001b[31m3.0 MB/s\u001b[0m eta \u001b[36m0:00:00\u001b[0m0:00:01\u001b[0m00:01\u001b[0m\n",
            "\u001b[?25hCollecting torchvision==0.11.0+cu113\n",
            "  Downloading https://download.pytorch.org/whl/cu113/torchvision-0.11.0%2Bcu113-cp38-cp38-linux_x86_64.whl (21.8 MB)\n",
            "\u001b[2K     \u001b[90m━━━━━━━━━━━━━━━━━━━━━━━━━━━━━━━━━━━━━━━━\u001b[0m \u001b[32m21.8/21.8 MB\u001b[0m \u001b[31m72.2 MB/s\u001b[0m eta \u001b[36m0:00:00\u001b[0m00:01\u001b[0m00:01\u001b[0m\n",
            "\u001b[?25hCollecting torchaudio==0.10.0\n",
            "  Downloading https://download.pytorch.org/whl/rocm4.1/torchaudio-0.10.0%2Brocm4.1-cp38-cp38-linux_x86_64.whl (2.7 MB)\n",
            "\u001b[2K     \u001b[90m━━━━━━━━━━━━━━━━━━━━━━━━━━━━━━━━━━━━━━━━\u001b[0m \u001b[32m2.7/2.7 MB\u001b[0m \u001b[31m35.7 MB/s\u001b[0m eta \u001b[36m0:00:00\u001b[0m00:01\u001b[0m00:01\u001b[0m\n",
            "\u001b[?25hRequirement already satisfied: typing-extensions in /home/chunwei/miniconda3/envs/flight/lib/python3.8/site-packages (from torch==1.10.0+cu113) (4.5.0)\n",
            "Requirement already satisfied: pillow!=8.3.0,>=5.3.0 in /home/chunwei/miniconda3/envs/flight/lib/python3.8/site-packages (from torchvision==0.11.0+cu113) (9.4.0)\n",
            "Requirement already satisfied: numpy in /home/chunwei/miniconda3/envs/flight/lib/python3.8/site-packages (from torchvision==0.11.0+cu113) (1.23.1)\n",
            "Installing collected packages: torch, torchvision, torchaudio\n",
            "Successfully installed torch-1.10.0+cu113 torchaudio-0.10.0+rocm4.1 torchvision-0.11.0+cu113\n",
            "Note: you may need to restart the kernel to use updated packages.\n"
          ]
        }
      ],
      "source": [
        "%pip uninstall -y torch torchvision torchaudio torchtext\n",
        "%pip install torch==1.10.0+cu113 torchvision==0.11.0+cu113 torchaudio==0.10.0 -f https://download.pytorch.org/whl/torch_stable.html"
      ]
    },
    {
      "cell_type": "markdown",
      "id": "JYcdEMrzj7nt",
      "metadata": {
        "id": "JYcdEMrzj7nt"
      },
      "source": [
        "### 1.2 Install dependencies\n",
        "\n",
        "**Important**: Before running the following cells, please restart the runtime using the menu bar entries `Runtime > Restart runtime`"
      ]
    },
    {
      "cell_type": "code",
      "execution_count": 1,
      "id": "7127bd8a",
      "metadata": {
        "colab": {
          "base_uri": "https://localhost:8080/",
          "height": 1000
        },
        "id": "7127bd8a",
        "outputId": "11fd8ca3-4a13-4ae5-feaf-b4579501efeb"
      },
      "outputs": [
        {
          "name": "stderr",
          "output_type": "stream",
          "text": [
            "/home/chunwei/miniconda3/envs/flight/lib/python3.8/site-packages/tqdm/auto.py:22: TqdmWarning: IProgress not found. Please update jupyter and ipywidgets. See https://ipywidgets.readthedocs.io/en/stable/user_install.html\n",
            "  from .autonotebook import tqdm as notebook_tqdm\n"
          ]
        },
        {
          "name": "stdout",
          "output_type": "stream",
          "text": [
            "torch:  1.10 ; cuda:  cu113\n",
            "Looking in links: https://dl.fbaipublicfiles.com/detectron2/wheels/cu113/torch1.10/index.html\n",
            "Collecting detectron2\n",
            "  Downloading https://dl.fbaipublicfiles.com/detectron2/wheels/cu113/torch1.10/detectron2-0.6%2Bcu113-cp38-cp38-linux_x86_64.whl (7.0 MB)\n",
            "\u001b[2K     \u001b[90m━━━━━━━━━━━━━━━━━━━━━━━━━━━━━━━━━━━━━━━━\u001b[0m \u001b[32m7.0/7.0 MB\u001b[0m \u001b[31m1.0 MB/s\u001b[0m eta \u001b[36m0:00:00\u001b[0m00:01\u001b[0m00:01\u001b[0m0m\n",
            "\u001b[?25hRequirement already satisfied: tensorboard in /home/chunwei/miniconda3/envs/flight/lib/python3.8/site-packages (from detectron2) (2.11.2)\n",
            "Collecting iopath<0.1.10,>=0.1.7\n",
            "  Downloading iopath-0.1.9-py3-none-any.whl (27 kB)\n",
            "Collecting black==21.4b2\n",
            "  Downloading black-21.4b2-py3-none-any.whl (130 kB)\n",
            "\u001b[2K     \u001b[90m━━━━━━━━━━━━━━━━━━━━━━━━━━━━━━━━━━━━━━━\u001b[0m \u001b[32m131.0/131.0 kB\u001b[0m \u001b[31m8.2 MB/s\u001b[0m eta \u001b[36m0:00:00\u001b[0m\n",
            "\u001b[?25hCollecting yacs>=0.1.8\n",
            "  Downloading yacs-0.1.8-py3-none-any.whl (14 kB)\n",
            "Requirement already satisfied: tqdm>4.29.0 in /home/chunwei/miniconda3/envs/flight/lib/python3.8/site-packages (from detectron2) (4.64.1)\n",
            "Collecting pydot\n",
            "  Downloading pydot-1.4.2-py2.py3-none-any.whl (21 kB)\n",
            "Collecting tabulate\n",
            "  Downloading tabulate-0.9.0-py3-none-any.whl (35 kB)\n",
            "Collecting fvcore<0.1.6,>=0.1.5\n",
            "  Downloading fvcore-0.1.5.post20221221.tar.gz (50 kB)\n",
            "\u001b[2K     \u001b[90m━━━━━━━━━━━━━━━━━━━━━━━━━━━━━━━━━━━━━━━━\u001b[0m \u001b[32m50.2/50.2 kB\u001b[0m \u001b[31m7.4 MB/s\u001b[0m eta \u001b[36m0:00:00\u001b[0m\n",
            "\u001b[?25h  Preparing metadata (setup.py) ... \u001b[?25ldone\n",
            "\u001b[?25hCollecting pycocotools>=2.0.2\n",
            "  Downloading pycocotools-2.0.6.tar.gz (24 kB)\n",
            "  Installing build dependencies ... \u001b[?25ldone\n",
            "\u001b[?25h  Getting requirements to build wheel ... \u001b[?25ldone\n",
            "\u001b[?25h  Preparing metadata (pyproject.toml) ... \u001b[?25ldone\n",
            "\u001b[?25hRequirement already satisfied: future in /home/chunwei/miniconda3/envs/flight/lib/python3.8/site-packages (from detectron2) (0.18.3)\n",
            "Collecting hydra-core>=1.1\n",
            "  Downloading hydra_core-1.3.2-py3-none-any.whl (154 kB)\n",
            "\u001b[2K     \u001b[90m━━━━━━━━━━━━━━━━━━━━━━━━━━━━━━━━━━━━━━\u001b[0m \u001b[32m154.5/154.5 kB\u001b[0m \u001b[31m23.2 MB/s\u001b[0m eta \u001b[36m0:00:00\u001b[0m\n",
            "\u001b[?25hRequirement already satisfied: Pillow>=7.1 in /home/chunwei/miniconda3/envs/flight/lib/python3.8/site-packages (from detectron2) (9.4.0)\n",
            "Requirement already satisfied: matplotlib in /home/chunwei/miniconda3/envs/flight/lib/python3.8/site-packages (from detectron2) (3.7.0)\n",
            "Requirement already satisfied: termcolor>=1.1 in /home/chunwei/miniconda3/envs/flight/lib/python3.8/site-packages (from detectron2) (2.2.0)\n",
            "Collecting omegaconf>=2.1\n",
            "  Downloading omegaconf-2.3.0-py3-none-any.whl (79 kB)\n",
            "\u001b[2K     \u001b[90m━━━━━━━━━━━━━━━━━━━━━━━━━━━━━━━━━━━━━━━━\u001b[0m \u001b[32m79.5/79.5 kB\u001b[0m \u001b[31m13.0 MB/s\u001b[0m eta \u001b[36m0:00:00\u001b[0m\n",
            "\u001b[?25hRequirement already satisfied: cloudpickle in /home/chunwei/miniconda3/envs/flight/lib/python3.8/site-packages (from detectron2) (1.3.0)\n",
            "Requirement already satisfied: click>=7.1.2 in /home/chunwei/miniconda3/envs/flight/lib/python3.8/site-packages (from black==21.4b2->detectron2) (8.1.3)\n",
            "Collecting mypy-extensions>=0.4.3\n",
            "  Downloading mypy_extensions-1.0.0-py3-none-any.whl (4.7 kB)\n",
            "Collecting pathspec<1,>=0.8.1\n",
            "  Downloading pathspec-0.11.0-py3-none-any.whl (29 kB)\n",
            "Requirement already satisfied: regex>=2020.1.8 in /home/chunwei/miniconda3/envs/flight/lib/python3.8/site-packages (from black==21.4b2->detectron2) (2022.10.31)\n",
            "Requirement already satisfied: appdirs in /home/chunwei/miniconda3/envs/flight/lib/python3.8/site-packages (from black==21.4b2->detectron2) (1.4.4)\n",
            "Collecting toml>=0.10.1\n",
            "  Downloading toml-0.10.2-py2.py3-none-any.whl (16 kB)\n",
            "Requirement already satisfied: numpy in /home/chunwei/miniconda3/envs/flight/lib/python3.8/site-packages (from fvcore<0.1.6,>=0.1.5->detectron2) (1.23.1)\n",
            "Requirement already satisfied: pyyaml>=5.1 in /home/chunwei/miniconda3/envs/flight/lib/python3.8/site-packages (from fvcore<0.1.6,>=0.1.5->detectron2) (6.0)\n",
            "Requirement already satisfied: packaging in /home/chunwei/miniconda3/envs/flight/lib/python3.8/site-packages (from hydra-core>=1.1->detectron2) (23.0)\n",
            "Collecting antlr4-python3-runtime==4.9.*\n",
            "  Downloading antlr4-python3-runtime-4.9.3.tar.gz (117 kB)\n",
            "\u001b[2K     \u001b[90m━━━━━━━━━━━━━━━━━━━━━━━━━━━━━━━━━━━━━━\u001b[0m \u001b[32m117.0/117.0 kB\u001b[0m \u001b[31m20.2 MB/s\u001b[0m eta \u001b[36m0:00:00\u001b[0m\n",
            "\u001b[?25h  Preparing metadata (setup.py) ... \u001b[?25ldone\n",
            "\u001b[?25hRequirement already satisfied: importlib-resources in /home/chunwei/miniconda3/envs/flight/lib/python3.8/site-packages (from hydra-core>=1.1->detectron2) (5.12.0)\n",
            "Collecting portalocker\n",
            "  Downloading portalocker-2.7.0-py2.py3-none-any.whl (15 kB)\n",
            "Requirement already satisfied: contourpy>=1.0.1 in /home/chunwei/miniconda3/envs/flight/lib/python3.8/site-packages (from matplotlib->detectron2) (1.0.7)\n",
            "Requirement already satisfied: kiwisolver>=1.0.1 in /home/chunwei/miniconda3/envs/flight/lib/python3.8/site-packages (from matplotlib->detectron2) (1.4.4)\n",
            "Requirement already satisfied: python-dateutil>=2.7 in /home/chunwei/miniconda3/envs/flight/lib/python3.8/site-packages (from matplotlib->detectron2) (2.8.2)\n",
            "Requirement already satisfied: pyparsing>=2.3.1 in /home/chunwei/miniconda3/envs/flight/lib/python3.8/site-packages (from matplotlib->detectron2) (3.0.9)\n",
            "Requirement already satisfied: cycler>=0.10 in /home/chunwei/miniconda3/envs/flight/lib/python3.8/site-packages (from matplotlib->detectron2) (0.11.0)\n",
            "Requirement already satisfied: fonttools>=4.22.0 in /home/chunwei/miniconda3/envs/flight/lib/python3.8/site-packages (from matplotlib->detectron2) (4.38.0)\n",
            "Requirement already satisfied: tensorboard-data-server<0.7.0,>=0.6.0 in /home/chunwei/miniconda3/envs/flight/lib/python3.8/site-packages (from tensorboard->detectron2) (0.6.1)\n",
            "Requirement already satisfied: markdown>=2.6.8 in /home/chunwei/miniconda3/envs/flight/lib/python3.8/site-packages (from tensorboard->detectron2) (3.4.1)\n",
            "Requirement already satisfied: tensorboard-plugin-wit>=1.6.0 in /home/chunwei/miniconda3/envs/flight/lib/python3.8/site-packages (from tensorboard->detectron2) (1.8.1)\n",
            "Requirement already satisfied: werkzeug>=1.0.1 in /home/chunwei/miniconda3/envs/flight/lib/python3.8/site-packages (from tensorboard->detectron2) (2.2.3)\n",
            "Requirement already satisfied: protobuf<4,>=3.9.2 in /home/chunwei/miniconda3/envs/flight/lib/python3.8/site-packages (from tensorboard->detectron2) (3.19.6)\n",
            "Requirement already satisfied: wheel>=0.26 in /home/chunwei/miniconda3/envs/flight/lib/python3.8/site-packages (from tensorboard->detectron2) (0.38.4)\n",
            "Requirement already satisfied: setuptools>=41.0.0 in /home/chunwei/miniconda3/envs/flight/lib/python3.8/site-packages (from tensorboard->detectron2) (67.6.0)\n",
            "Requirement already satisfied: google-auth<3,>=1.6.3 in /home/chunwei/miniconda3/envs/flight/lib/python3.8/site-packages (from tensorboard->detectron2) (2.16.2)\n",
            "Requirement already satisfied: requests<3,>=2.21.0 in /home/chunwei/miniconda3/envs/flight/lib/python3.8/site-packages (from tensorboard->detectron2) (2.28.2)\n",
            "Requirement already satisfied: google-auth-oauthlib<0.5,>=0.4.1 in /home/chunwei/miniconda3/envs/flight/lib/python3.8/site-packages (from tensorboard->detectron2) (0.4.6)\n",
            "Requirement already satisfied: grpcio>=1.24.3 in /home/chunwei/miniconda3/envs/flight/lib/python3.8/site-packages (from tensorboard->detectron2) (1.51.3)\n",
            "Requirement already satisfied: absl-py>=0.4 in /home/chunwei/miniconda3/envs/flight/lib/python3.8/site-packages (from tensorboard->detectron2) (1.4.0)\n",
            "Requirement already satisfied: pyasn1-modules>=0.2.1 in /home/chunwei/miniconda3/envs/flight/lib/python3.8/site-packages (from google-auth<3,>=1.6.3->tensorboard->detectron2) (0.2.8)\n",
            "Requirement already satisfied: rsa<5,>=3.1.4 in /home/chunwei/miniconda3/envs/flight/lib/python3.8/site-packages (from google-auth<3,>=1.6.3->tensorboard->detectron2) (4.9)\n",
            "Requirement already satisfied: six>=1.9.0 in /home/chunwei/miniconda3/envs/flight/lib/python3.8/site-packages (from google-auth<3,>=1.6.3->tensorboard->detectron2) (1.16.0)\n",
            "Requirement already satisfied: cachetools<6.0,>=2.0.0 in /home/chunwei/miniconda3/envs/flight/lib/python3.8/site-packages (from google-auth<3,>=1.6.3->tensorboard->detectron2) (5.3.0)\n",
            "Requirement already satisfied: requests-oauthlib>=0.7.0 in /home/chunwei/miniconda3/envs/flight/lib/python3.8/site-packages (from google-auth-oauthlib<0.5,>=0.4.1->tensorboard->detectron2) (1.3.1)\n",
            "Requirement already satisfied: zipp>=3.1.0 in /home/chunwei/miniconda3/envs/flight/lib/python3.8/site-packages (from importlib-resources->hydra-core>=1.1->detectron2) (3.15.0)\n",
            "Requirement already satisfied: importlib-metadata>=4.4 in /home/chunwei/miniconda3/envs/flight/lib/python3.8/site-packages (from markdown>=2.6.8->tensorboard->detectron2) (6.0.0)\n",
            "Requirement already satisfied: idna<4,>=2.5 in /home/chunwei/miniconda3/envs/flight/lib/python3.8/site-packages (from requests<3,>=2.21.0->tensorboard->detectron2) (3.4)\n",
            "Requirement already satisfied: certifi>=2017.4.17 in /home/chunwei/miniconda3/envs/flight/lib/python3.8/site-packages (from requests<3,>=2.21.0->tensorboard->detectron2) (2022.12.7)\n",
            "Requirement already satisfied: urllib3<1.27,>=1.21.1 in /home/chunwei/miniconda3/envs/flight/lib/python3.8/site-packages (from requests<3,>=2.21.0->tensorboard->detectron2) (1.26.14)\n",
            "Requirement already satisfied: charset-normalizer<4,>=2 in /home/chunwei/miniconda3/envs/flight/lib/python3.8/site-packages (from requests<3,>=2.21.0->tensorboard->detectron2) (3.0.1)\n",
            "Requirement already satisfied: MarkupSafe>=2.1.1 in /home/chunwei/miniconda3/envs/flight/lib/python3.8/site-packages (from werkzeug>=1.0.1->tensorboard->detectron2) (2.1.2)\n",
            "Requirement already satisfied: pyasn1<0.5.0,>=0.4.6 in /home/chunwei/miniconda3/envs/flight/lib/python3.8/site-packages (from pyasn1-modules>=0.2.1->google-auth<3,>=1.6.3->tensorboard->detectron2) (0.4.8)\n",
            "Requirement already satisfied: oauthlib>=3.0.0 in /home/chunwei/miniconda3/envs/flight/lib/python3.8/site-packages (from requests-oauthlib>=0.7.0->google-auth-oauthlib<0.5,>=0.4.1->tensorboard->detectron2) (3.2.2)\n",
            "Building wheels for collected packages: fvcore, antlr4-python3-runtime, pycocotools\n",
            "  Building wheel for fvcore (setup.py) ... \u001b[?25ldone\n",
            "\u001b[?25h  Created wheel for fvcore: filename=fvcore-0.1.5.post20221221-py3-none-any.whl size=61405 sha256=a4caf7c931b8bbef8c10d216115335dec0c47dd1c2c1b1ad6a3adfa7351814fb\n",
            "  Stored in directory: /home/chunwei/.cache/pip/wheels/6d/1f/39/577cab48487ad5c31acd046ee33dea7ca6fede7e923b2a2bc1\n",
            "  Building wheel for antlr4-python3-runtime (setup.py) ... \u001b[?25ldone\n",
            "\u001b[?25h  Created wheel for antlr4-python3-runtime: filename=antlr4_python3_runtime-4.9.3-py3-none-any.whl size=144554 sha256=f77ed4834b442efc30a4f6cd65aab8ced52ba4437ef003e428902e5762a9a85c\n",
            "  Stored in directory: /home/chunwei/.cache/pip/wheels/11/20/e3/33bfd201db65084a9bb7ec0fd4040c2a7b59bb155698396a7c\n",
            "  Building wheel for pycocotools (pyproject.toml) ... \u001b[?25ldone\n",
            "\u001b[?25h  Created wheel for pycocotools: filename=pycocotools-2.0.6-cp38-cp38-linux_x86_64.whl size=425705 sha256=541add07ceb042d999a36caea5ebfa67ab7abe168f302709df6f647a5b84acad\n",
            "  Stored in directory: /home/chunwei/.cache/pip/wheels/07/42/0a/26d14b3a7343223fcee09c101e73d82fff8bdd1541d85fe033\n",
            "Successfully built fvcore antlr4-python3-runtime pycocotools\n",
            "Installing collected packages: antlr4-python3-runtime, yacs, toml, tabulate, pydot, portalocker, pathspec, omegaconf, mypy-extensions, iopath, hydra-core, black, pycocotools, fvcore, detectron2\n",
            "Successfully installed antlr4-python3-runtime-4.9.3 black-21.4b2 detectron2-0.6+cu113 fvcore-0.1.5.post20221221 hydra-core-1.3.2 iopath-0.1.9 mypy-extensions-1.0.0 omegaconf-2.3.0 pathspec-0.11.0 portalocker-2.7.0 pycocotools-2.0.6 pydot-1.4.2 tabulate-0.9.0 toml-0.10.2 yacs-0.1.8\n",
            "Note: you may need to restart the kernel to use updated packages.\n"
          ]
        }
      ],
      "source": [
        "import torch\n",
        "TORCH_VERSION = \".\".join(torch.__version__.split(\".\")[:2])\n",
        "CUDA_VERSION = torch.__version__.split(\"+\")[-1]\n",
        "print(\"torch: \", TORCH_VERSION, \"; cuda: \", CUDA_VERSION)\n",
        "## Install detectron2 that matches the above pytorch version\n",
        "## See https://detectron2.readthedocs.io/tutorials/install.html for instructions\n",
        "%pip install detectron2 -f https://dl.fbaipublicfiles.com/detectron2/wheels/$CUDA_VERSION/torch$TORCH_VERSION/index.html\n",
        "\n",
        "## In case you have troubles with Detectron2, consider installing it from source instead. This takes a few minutes.\n",
        "#!python -m pip install 'git+https://github.com/facebookresearch/detectron2.git'"
      ]
    },
    {
      "cell_type": "code",
      "execution_count": 1,
      "id": "ebe8dmf7duNj",
      "metadata": {
        "colab": {
          "base_uri": "https://localhost:8080/"
        },
        "id": "ebe8dmf7duNj",
        "outputId": "96195ecb-717b-41b9-b470-113f7a19352b"
      },
      "outputs": [
        {
          "name": "stdout",
          "output_type": "stream",
          "text": [
            "/home/chunwei/drone_offboard/vision_backbones/Mask2Former\n",
            "/home/chunwei/drone_offboard/vision_backbones/Mask2Former\n",
            "Requirement already satisfied: opencv-python in /home/chunwei/miniconda3/envs/flight/lib/python3.8/site-packages (4.7.0.72)\n",
            "Requirement already satisfied: numpy>=1.17.3 in /home/chunwei/miniconda3/envs/flight/lib/python3.8/site-packages (from opencv-python) (1.23.1)\n",
            "Note: you may need to restart the kernel to use updated packages.\n",
            "Collecting git+https://github.com/cocodataset/panopticapi.git\n",
            "  Cloning https://github.com/cocodataset/panopticapi.git to /tmp/pip-req-build-cnrp2jfz\n",
            "  Running command git clone --filter=blob:none --quiet https://github.com/cocodataset/panopticapi.git /tmp/pip-req-build-cnrp2jfz\n",
            "  Resolved https://github.com/cocodataset/panopticapi.git to commit 7bb4655548f98f3fedc07bf37e9040a992b054b0\n",
            "  Preparing metadata (setup.py) ... \u001b[?25ldone\n",
            "\u001b[?25hRequirement already satisfied: numpy in /home/chunwei/miniconda3/envs/flight/lib/python3.8/site-packages (from panopticapi==0.1) (1.23.1)\n",
            "Requirement already satisfied: Pillow in /home/chunwei/miniconda3/envs/flight/lib/python3.8/site-packages (from panopticapi==0.1) (9.4.0)\n",
            "Note: you may need to restart the kernel to use updated packages.\n",
            "\u001b[31mERROR: Could not open requirements file: [Errno 2] No such file or directory: 'requirements.txt'\u001b[0m\u001b[31m\n",
            "\u001b[0mNote: you may need to restart the kernel to use updated packages.\n",
            "/home/chunwei/drone_offboard/vision_backbones/Mask2Former/mask2former/modeling/pixel_decoder/ops\n",
            "running build\n",
            "running build_py\n",
            "creating build\n",
            "creating build/lib.linux-x86_64-cpython-38\n",
            "creating build/lib.linux-x86_64-cpython-38/functions\n",
            "copying functions/__init__.py -> build/lib.linux-x86_64-cpython-38/functions\n",
            "copying functions/ms_deform_attn_func.py -> build/lib.linux-x86_64-cpython-38/functions\n",
            "creating build/lib.linux-x86_64-cpython-38/modules\n",
            "copying modules/__init__.py -> build/lib.linux-x86_64-cpython-38/modules\n",
            "copying modules/ms_deform_attn.py -> build/lib.linux-x86_64-cpython-38/modules\n",
            "running build_ext\n",
            "/home/chunwei/miniconda3/envs/flight/lib/python3.8/site-packages/torch/utils/cpp_extension.py:381: UserWarning: Attempted to use ninja as the BuildExtension backend but we could not find ninja.. Falling back to using the slow distutils backend.\n",
            "  warnings.warn(msg.format('we could not find ninja.'))\n",
            "/home/chunwei/miniconda3/envs/flight/lib/python3.8/site-packages/torch/utils/cpp_extension.py:782: UserWarning: The detected CUDA version (11.2) has a minor version mismatch with the version that was used to compile PyTorch (11.3). Most likely this shouldn't be a problem.\n",
            "  warnings.warn(CUDA_MISMATCH_WARN.format(cuda_str_version, torch.version.cuda))\n",
            "building 'MultiScaleDeformableAttention' extension\n",
            "creating build/temp.linux-x86_64-cpython-38\n",
            "creating build/temp.linux-x86_64-cpython-38/home\n",
            "creating build/temp.linux-x86_64-cpython-38/home/chunwei\n",
            "creating build/temp.linux-x86_64-cpython-38/home/chunwei/drone_offboard\n",
            "creating build/temp.linux-x86_64-cpython-38/home/chunwei/drone_offboard/vision_backbones\n",
            "creating build/temp.linux-x86_64-cpython-38/home/chunwei/drone_offboard/vision_backbones/Mask2Former\n",
            "creating build/temp.linux-x86_64-cpython-38/home/chunwei/drone_offboard/vision_backbones/Mask2Former/mask2former\n",
            "creating build/temp.linux-x86_64-cpython-38/home/chunwei/drone_offboard/vision_backbones/Mask2Former/mask2former/modeling\n",
            "creating build/temp.linux-x86_64-cpython-38/home/chunwei/drone_offboard/vision_backbones/Mask2Former/mask2former/modeling/pixel_decoder\n",
            "creating build/temp.linux-x86_64-cpython-38/home/chunwei/drone_offboard/vision_backbones/Mask2Former/mask2former/modeling/pixel_decoder/ops\n",
            "creating build/temp.linux-x86_64-cpython-38/home/chunwei/drone_offboard/vision_backbones/Mask2Former/mask2former/modeling/pixel_decoder/ops/src\n",
            "creating build/temp.linux-x86_64-cpython-38/home/chunwei/drone_offboard/vision_backbones/Mask2Former/mask2former/modeling/pixel_decoder/ops/src/cpu\n",
            "creating build/temp.linux-x86_64-cpython-38/home/chunwei/drone_offboard/vision_backbones/Mask2Former/mask2former/modeling/pixel_decoder/ops/src/cuda\n",
            "gcc -pthread -B /home/chunwei/miniconda3/envs/flight/compiler_compat -Wl,--sysroot=/ -Wsign-compare -DNDEBUG -g -fwrapv -O3 -Wall -Wstrict-prototypes -fPIC -DWITH_CUDA -I/home/chunwei/drone_offboard/vision_backbones/Mask2Former/mask2former/modeling/pixel_decoder/ops/src -I/home/chunwei/miniconda3/envs/flight/lib/python3.8/site-packages/torch/include -I/home/chunwei/miniconda3/envs/flight/lib/python3.8/site-packages/torch/include/torch/csrc/api/include -I/home/chunwei/miniconda3/envs/flight/lib/python3.8/site-packages/torch/include/TH -I/home/chunwei/miniconda3/envs/flight/lib/python3.8/site-packages/torch/include/THC -I/usr/local/cuda/include -I/home/chunwei/miniconda3/envs/flight/include/python3.8 -c /home/chunwei/drone_offboard/vision_backbones/Mask2Former/mask2former/modeling/pixel_decoder/ops/src/cpu/ms_deform_attn_cpu.cpp -o build/temp.linux-x86_64-cpython-38/home/chunwei/drone_offboard/vision_backbones/Mask2Former/mask2former/modeling/pixel_decoder/ops/src/cpu/ms_deform_attn_cpu.o -DTORCH_API_INCLUDE_EXTENSION_H -DPYBIND11_COMPILER_TYPE=\\\"_gcc\\\" -DPYBIND11_STDLIB=\\\"_libstdcpp\\\" -DPYBIND11_BUILD_ABI=\\\"_cxxabi1011\\\" -DTORCH_EXTENSION_NAME=MultiScaleDeformableAttention -D_GLIBCXX_USE_CXX11_ABI=0 -std=c++14\n",
            "\u001b[01m\u001b[Kcc1plus:\u001b[m\u001b[K \u001b[01;35m\u001b[Kwarning: \u001b[m\u001b[Kcommand line option ‘\u001b[01m\u001b[K-Wstrict-prototypes\u001b[m\u001b[K’ is valid for C/ObjC but not for C++\n",
            "/usr/local/cuda/bin/nvcc -DWITH_CUDA -I/home/chunwei/drone_offboard/vision_backbones/Mask2Former/mask2former/modeling/pixel_decoder/ops/src -I/home/chunwei/miniconda3/envs/flight/lib/python3.8/site-packages/torch/include -I/home/chunwei/miniconda3/envs/flight/lib/python3.8/site-packages/torch/include/torch/csrc/api/include -I/home/chunwei/miniconda3/envs/flight/lib/python3.8/site-packages/torch/include/TH -I/home/chunwei/miniconda3/envs/flight/lib/python3.8/site-packages/torch/include/THC -I/usr/local/cuda/include -I/home/chunwei/miniconda3/envs/flight/include/python3.8 -c /home/chunwei/drone_offboard/vision_backbones/Mask2Former/mask2former/modeling/pixel_decoder/ops/src/cuda/ms_deform_attn_cuda.cu -o build/temp.linux-x86_64-cpython-38/home/chunwei/drone_offboard/vision_backbones/Mask2Former/mask2former/modeling/pixel_decoder/ops/src/cuda/ms_deform_attn_cuda.o -D__CUDA_NO_HALF_OPERATORS__ -D__CUDA_NO_HALF_CONVERSIONS__ -D__CUDA_NO_BFLOAT16_CONVERSIONS__ -D__CUDA_NO_HALF2_OPERATORS__ --expt-relaxed-constexpr --compiler-options '-fPIC' -DCUDA_HAS_FP16=1 -D__CUDA_NO_HALF_OPERATORS__ -D__CUDA_NO_HALF_CONVERSIONS__ -D__CUDA_NO_HALF2_OPERATORS__ -DTORCH_API_INCLUDE_EXTENSION_H -DPYBIND11_COMPILER_TYPE=\\\"_gcc\\\" -DPYBIND11_STDLIB=\\\"_libstdcpp\\\" -DPYBIND11_BUILD_ABI=\\\"_cxxabi1011\\\" -DTORCH_EXTENSION_NAME=MultiScaleDeformableAttention -D_GLIBCXX_USE_CXX11_ABI=0 -gencode=arch=compute_75,code=compute_75 -gencode=arch=compute_75,code=sm_75 -std=c++14\n",
            "/home/chunwei/drone_offboard/vision_backbones/Mask2Former/mask2former/modeling/pixel_decoder/ops/src/cuda/ms_deform_im2col_cuda.cuh(266): warning: variable \"q_col\" was declared but never referenced\n",
            "          detected during instantiation of \"void ms_deformable_im2col_cuda(cudaStream_t, const scalar_t *, const int64_t *, const int64_t *, const scalar_t *, const scalar_t *, int, int, int, int, int, int, int, scalar_t *) [with scalar_t=double]\" \n",
            "/home/chunwei/drone_offboard/vision_backbones/Mask2Former/mask2former/modeling/pixel_decoder/ops/src/cuda/ms_deform_attn_cuda.cu(69): here\n",
            "\n",
            "/home/chunwei/drone_offboard/vision_backbones/Mask2Former/mask2former/modeling/pixel_decoder/ops/src/cuda/ms_deform_im2col_cuda.cuh(767): warning: variable \"q_col\" was declared but never referenced\n",
            "          detected during instantiation of \"void ms_deformable_col2im_cuda(cudaStream_t, const scalar_t *, const scalar_t *, const int64_t *, const int64_t *, const scalar_t *, const scalar_t *, int, int, int, int, int, int, int, scalar_t *, scalar_t *, scalar_t *) [with scalar_t=double]\" \n",
            "/home/chunwei/drone_offboard/vision_backbones/Mask2Former/mask2former/modeling/pixel_decoder/ops/src/cuda/ms_deform_attn_cuda.cu(139): here\n",
            "\n",
            "/home/chunwei/drone_offboard/vision_backbones/Mask2Former/mask2former/modeling/pixel_decoder/ops/src/cuda/ms_deform_im2col_cuda.cuh(877): warning: variable \"q_col\" was declared but never referenced\n",
            "          detected during instantiation of \"void ms_deformable_col2im_cuda(cudaStream_t, const scalar_t *, const scalar_t *, const int64_t *, const int64_t *, const scalar_t *, const scalar_t *, int, int, int, int, int, int, int, scalar_t *, scalar_t *, scalar_t *) [with scalar_t=double]\" \n",
            "/home/chunwei/drone_offboard/vision_backbones/Mask2Former/mask2former/modeling/pixel_decoder/ops/src/cuda/ms_deform_attn_cuda.cu(139): here\n",
            "\n",
            "/home/chunwei/drone_offboard/vision_backbones/Mask2Former/mask2former/modeling/pixel_decoder/ops/src/cuda/ms_deform_im2col_cuda.cuh(336): warning: variable \"q_col\" was declared but never referenced\n",
            "          detected during instantiation of \"void ms_deformable_col2im_cuda(cudaStream_t, const scalar_t *, const scalar_t *, const int64_t *, const int64_t *, const scalar_t *, const scalar_t *, int, int, int, int, int, int, int, scalar_t *, scalar_t *, scalar_t *) [with scalar_t=double]\" \n",
            "/home/chunwei/drone_offboard/vision_backbones/Mask2Former/mask2former/modeling/pixel_decoder/ops/src/cuda/ms_deform_attn_cuda.cu(139): here\n",
            "\n",
            "/home/chunwei/drone_offboard/vision_backbones/Mask2Former/mask2former/modeling/pixel_decoder/ops/src/cuda/ms_deform_im2col_cuda.cuh(441): warning: variable \"q_col\" was declared but never referenced\n",
            "          detected during instantiation of \"void ms_deformable_col2im_cuda(cudaStream_t, const scalar_t *, const scalar_t *, const int64_t *, const int64_t *, const scalar_t *, const scalar_t *, int, int, int, int, int, int, int, scalar_t *, scalar_t *, scalar_t *) [with scalar_t=double]\" \n",
            "/home/chunwei/drone_offboard/vision_backbones/Mask2Former/mask2former/modeling/pixel_decoder/ops/src/cuda/ms_deform_attn_cuda.cu(139): here\n",
            "\n",
            "/home/chunwei/drone_offboard/vision_backbones/Mask2Former/mask2former/modeling/pixel_decoder/ops/src/cuda/ms_deform_im2col_cuda.cuh(549): warning: variable \"q_col\" was declared but never referenced\n",
            "          detected during instantiation of \"void ms_deformable_col2im_cuda(cudaStream_t, const scalar_t *, const scalar_t *, const int64_t *, const int64_t *, const scalar_t *, const scalar_t *, int, int, int, int, int, int, int, scalar_t *, scalar_t *, scalar_t *) [with scalar_t=double]\" \n",
            "/home/chunwei/drone_offboard/vision_backbones/Mask2Former/mask2former/modeling/pixel_decoder/ops/src/cuda/ms_deform_attn_cuda.cu(139): here\n",
            "\n",
            "/home/chunwei/drone_offboard/vision_backbones/Mask2Former/mask2former/modeling/pixel_decoder/ops/src/cuda/ms_deform_im2col_cuda.cuh(654): warning: variable \"q_col\" was declared but never referenced\n",
            "          detected during instantiation of \"void ms_deformable_col2im_cuda(cudaStream_t, const scalar_t *, const scalar_t *, const int64_t *, const int64_t *, const scalar_t *, const scalar_t *, int, int, int, int, int, int, int, scalar_t *, scalar_t *, scalar_t *) [with scalar_t=double]\" \n",
            "/home/chunwei/drone_offboard/vision_backbones/Mask2Former/mask2former/modeling/pixel_decoder/ops/src/cuda/ms_deform_attn_cuda.cu(139): here\n",
            "\n",
            "gcc -pthread -B /home/chunwei/miniconda3/envs/flight/compiler_compat -Wl,--sysroot=/ -Wsign-compare -DNDEBUG -g -fwrapv -O3 -Wall -Wstrict-prototypes -fPIC -DWITH_CUDA -I/home/chunwei/drone_offboard/vision_backbones/Mask2Former/mask2former/modeling/pixel_decoder/ops/src -I/home/chunwei/miniconda3/envs/flight/lib/python3.8/site-packages/torch/include -I/home/chunwei/miniconda3/envs/flight/lib/python3.8/site-packages/torch/include/torch/csrc/api/include -I/home/chunwei/miniconda3/envs/flight/lib/python3.8/site-packages/torch/include/TH -I/home/chunwei/miniconda3/envs/flight/lib/python3.8/site-packages/torch/include/THC -I/usr/local/cuda/include -I/home/chunwei/miniconda3/envs/flight/include/python3.8 -c /home/chunwei/drone_offboard/vision_backbones/Mask2Former/mask2former/modeling/pixel_decoder/ops/src/vision.cpp -o build/temp.linux-x86_64-cpython-38/home/chunwei/drone_offboard/vision_backbones/Mask2Former/mask2former/modeling/pixel_decoder/ops/src/vision.o -DTORCH_API_INCLUDE_EXTENSION_H -DPYBIND11_COMPILER_TYPE=\\\"_gcc\\\" -DPYBIND11_STDLIB=\\\"_libstdcpp\\\" -DPYBIND11_BUILD_ABI=\\\"_cxxabi1011\\\" -DTORCH_EXTENSION_NAME=MultiScaleDeformableAttention -D_GLIBCXX_USE_CXX11_ABI=0 -std=c++14\n",
            "\u001b[01m\u001b[Kcc1plus:\u001b[m\u001b[K \u001b[01;35m\u001b[Kwarning: \u001b[m\u001b[Kcommand line option ‘\u001b[01m\u001b[K-Wstrict-prototypes\u001b[m\u001b[K’ is valid for C/ObjC but not for C++\n",
            "In file included from \u001b[01m\u001b[K/home/chunwei/drone_offboard/vision_backbones/Mask2Former/mask2former/modeling/pixel_decoder/ops/src/vision.cpp:16\u001b[m\u001b[K:\n",
            "\u001b[01m\u001b[K/home/chunwei/drone_offboard/vision_backbones/Mask2Former/mask2former/modeling/pixel_decoder/ops/src/ms_deform_attn.h:\u001b[m\u001b[K In function ‘\u001b[01m\u001b[Kat::Tensor ms_deform_attn_forward(const at::Tensor&, const at::Tensor&, const at::Tensor&, const at::Tensor&, const at::Tensor&, int)\u001b[m\u001b[K’:\n",
            "\u001b[01m\u001b[K/home/chunwei/drone_offboard/vision_backbones/Mask2Former/mask2former/modeling/pixel_decoder/ops/src/ms_deform_attn.h:34:20:\u001b[m\u001b[K \u001b[01;35m\u001b[Kwarning: \u001b[m\u001b[K‘\u001b[01m\u001b[Kat::DeprecatedTypeProperties& at::Tensor::type() const\u001b[m\u001b[K’ is deprecated: Tensor.type() is deprecated. Instead use Tensor.options(), which in many cases (e.g. in a constructor) is a drop-in replacement. If you were using data from type(), that is now available from Tensor itself, so instead of tensor.type().scalar_type(), use tensor.scalar_type() instead and instead of tensor.type().backend() use tensor.device(). [\u001b[01;35m\u001b[K-Wdeprecated-declarations\u001b[m\u001b[K]\n",
            "   34 |     if (value.type(\u001b[01;35m\u001b[K)\u001b[m\u001b[K.is_cuda())\n",
            "      |                    \u001b[01;35m\u001b[K^\u001b[m\u001b[K\n",
            "In file included from \u001b[01m\u001b[K/home/chunwei/miniconda3/envs/flight/lib/python3.8/site-packages/torch/include/ATen/Tensor.h:3\u001b[m\u001b[K,\n",
            "                 from \u001b[01m\u001b[K/home/chunwei/miniconda3/envs/flight/lib/python3.8/site-packages/torch/include/ATen/Context.h:4\u001b[m\u001b[K,\n",
            "                 from \u001b[01m\u001b[K/home/chunwei/miniconda3/envs/flight/lib/python3.8/site-packages/torch/include/ATen/ATen.h:9\u001b[m\u001b[K,\n",
            "                 from \u001b[01m\u001b[K/home/chunwei/miniconda3/envs/flight/lib/python3.8/site-packages/torch/include/torch/csrc/api/include/torch/types.h:3\u001b[m\u001b[K,\n",
            "                 from \u001b[01m\u001b[K/home/chunwei/miniconda3/envs/flight/lib/python3.8/site-packages/torch/include/torch/csrc/api/include/torch/data/dataloader_options.h:4\u001b[m\u001b[K,\n",
            "                 from \u001b[01m\u001b[K/home/chunwei/miniconda3/envs/flight/lib/python3.8/site-packages/torch/include/torch/csrc/api/include/torch/data/dataloader/base.h:3\u001b[m\u001b[K,\n",
            "                 from \u001b[01m\u001b[K/home/chunwei/miniconda3/envs/flight/lib/python3.8/site-packages/torch/include/torch/csrc/api/include/torch/data/dataloader/stateful.h:3\u001b[m\u001b[K,\n",
            "                 from \u001b[01m\u001b[K/home/chunwei/miniconda3/envs/flight/lib/python3.8/site-packages/torch/include/torch/csrc/api/include/torch/data/dataloader.h:3\u001b[m\u001b[K,\n",
            "                 from \u001b[01m\u001b[K/home/chunwei/miniconda3/envs/flight/lib/python3.8/site-packages/torch/include/torch/csrc/api/include/torch/data.h:3\u001b[m\u001b[K,\n",
            "                 from \u001b[01m\u001b[K/home/chunwei/miniconda3/envs/flight/lib/python3.8/site-packages/torch/include/torch/csrc/api/include/torch/all.h:8\u001b[m\u001b[K,\n",
            "                 from \u001b[01m\u001b[K/home/chunwei/miniconda3/envs/flight/lib/python3.8/site-packages/torch/include/torch/extension.h:4\u001b[m\u001b[K,\n",
            "                 from \u001b[01m\u001b[K/home/chunwei/drone_offboard/vision_backbones/Mask2Former/mask2former/modeling/pixel_decoder/ops/src/cpu/ms_deform_attn_cpu.h:17\u001b[m\u001b[K,\n",
            "                 from \u001b[01m\u001b[K/home/chunwei/drone_offboard/vision_backbones/Mask2Former/mask2former/modeling/pixel_decoder/ops/src/ms_deform_attn.h:18\u001b[m\u001b[K,\n",
            "                 from \u001b[01m\u001b[K/home/chunwei/drone_offboard/vision_backbones/Mask2Former/mask2former/modeling/pixel_decoder/ops/src/vision.cpp:16\u001b[m\u001b[K:\n",
            "\u001b[01m\u001b[K/home/chunwei/miniconda3/envs/flight/lib/python3.8/site-packages/torch/include/ATen/core/TensorBody.h:194:30:\u001b[m\u001b[K \u001b[01;36m\u001b[Knote: \u001b[m\u001b[Kdeclared here\n",
            "  194 |   DeprecatedTypeProperties & \u001b[01;36m\u001b[Ktype\u001b[m\u001b[K() const {\n",
            "      |                              \u001b[01;36m\u001b[K^~~~\u001b[m\u001b[K\n",
            "In file included from \u001b[01m\u001b[K/home/chunwei/drone_offboard/vision_backbones/Mask2Former/mask2former/modeling/pixel_decoder/ops/src/vision.cpp:16\u001b[m\u001b[K:\n",
            "\u001b[01m\u001b[K/home/chunwei/drone_offboard/vision_backbones/Mask2Former/mask2former/modeling/pixel_decoder/ops/src/ms_deform_attn.h:\u001b[m\u001b[K In function ‘\u001b[01m\u001b[Kstd::vector<at::Tensor> ms_deform_attn_backward(const at::Tensor&, const at::Tensor&, const at::Tensor&, const at::Tensor&, const at::Tensor&, const at::Tensor&, int)\u001b[m\u001b[K’:\n",
            "\u001b[01m\u001b[K/home/chunwei/drone_offboard/vision_backbones/Mask2Former/mask2former/modeling/pixel_decoder/ops/src/ms_deform_attn.h:56:20:\u001b[m\u001b[K \u001b[01;35m\u001b[Kwarning: \u001b[m\u001b[K‘\u001b[01m\u001b[Kat::DeprecatedTypeProperties& at::Tensor::type() const\u001b[m\u001b[K’ is deprecated: Tensor.type() is deprecated. Instead use Tensor.options(), which in many cases (e.g. in a constructor) is a drop-in replacement. If you were using data from type(), that is now available from Tensor itself, so instead of tensor.type().scalar_type(), use tensor.scalar_type() instead and instead of tensor.type().backend() use tensor.device(). [\u001b[01;35m\u001b[K-Wdeprecated-declarations\u001b[m\u001b[K]\n",
            "   56 |     if (value.type(\u001b[01;35m\u001b[K)\u001b[m\u001b[K.is_cuda())\n",
            "      |                    \u001b[01;35m\u001b[K^\u001b[m\u001b[K\n",
            "In file included from \u001b[01m\u001b[K/home/chunwei/miniconda3/envs/flight/lib/python3.8/site-packages/torch/include/ATen/Tensor.h:3\u001b[m\u001b[K,\n",
            "                 from \u001b[01m\u001b[K/home/chunwei/miniconda3/envs/flight/lib/python3.8/site-packages/torch/include/ATen/Context.h:4\u001b[m\u001b[K,\n",
            "                 from \u001b[01m\u001b[K/home/chunwei/miniconda3/envs/flight/lib/python3.8/site-packages/torch/include/ATen/ATen.h:9\u001b[m\u001b[K,\n",
            "                 from \u001b[01m\u001b[K/home/chunwei/miniconda3/envs/flight/lib/python3.8/site-packages/torch/include/torch/csrc/api/include/torch/types.h:3\u001b[m\u001b[K,\n",
            "                 from \u001b[01m\u001b[K/home/chunwei/miniconda3/envs/flight/lib/python3.8/site-packages/torch/include/torch/csrc/api/include/torch/data/dataloader_options.h:4\u001b[m\u001b[K,\n",
            "                 from \u001b[01m\u001b[K/home/chunwei/miniconda3/envs/flight/lib/python3.8/site-packages/torch/include/torch/csrc/api/include/torch/data/dataloader/base.h:3\u001b[m\u001b[K,\n",
            "                 from \u001b[01m\u001b[K/home/chunwei/miniconda3/envs/flight/lib/python3.8/site-packages/torch/include/torch/csrc/api/include/torch/data/dataloader/stateful.h:3\u001b[m\u001b[K,\n",
            "                 from \u001b[01m\u001b[K/home/chunwei/miniconda3/envs/flight/lib/python3.8/site-packages/torch/include/torch/csrc/api/include/torch/data/dataloader.h:3\u001b[m\u001b[K,\n",
            "                 from \u001b[01m\u001b[K/home/chunwei/miniconda3/envs/flight/lib/python3.8/site-packages/torch/include/torch/csrc/api/include/torch/data.h:3\u001b[m\u001b[K,\n",
            "                 from \u001b[01m\u001b[K/home/chunwei/miniconda3/envs/flight/lib/python3.8/site-packages/torch/include/torch/csrc/api/include/torch/all.h:8\u001b[m\u001b[K,\n",
            "                 from \u001b[01m\u001b[K/home/chunwei/miniconda3/envs/flight/lib/python3.8/site-packages/torch/include/torch/extension.h:4\u001b[m\u001b[K,\n",
            "                 from \u001b[01m\u001b[K/home/chunwei/drone_offboard/vision_backbones/Mask2Former/mask2former/modeling/pixel_decoder/ops/src/cpu/ms_deform_attn_cpu.h:17\u001b[m\u001b[K,\n",
            "                 from \u001b[01m\u001b[K/home/chunwei/drone_offboard/vision_backbones/Mask2Former/mask2former/modeling/pixel_decoder/ops/src/ms_deform_attn.h:18\u001b[m\u001b[K,\n",
            "                 from \u001b[01m\u001b[K/home/chunwei/drone_offboard/vision_backbones/Mask2Former/mask2former/modeling/pixel_decoder/ops/src/vision.cpp:16\u001b[m\u001b[K:\n",
            "\u001b[01m\u001b[K/home/chunwei/miniconda3/envs/flight/lib/python3.8/site-packages/torch/include/ATen/core/TensorBody.h:194:30:\u001b[m\u001b[K \u001b[01;36m\u001b[Knote: \u001b[m\u001b[Kdeclared here\n",
            "  194 |   DeprecatedTypeProperties & \u001b[01;36m\u001b[Ktype\u001b[m\u001b[K() const {\n",
            "      |                              \u001b[01;36m\u001b[K^~~~\u001b[m\u001b[K\n",
            "g++ -pthread -B /home/chunwei/miniconda3/envs/flight/compiler_compat -Wl,--sysroot=/ -pthread -shared -B /home/chunwei/miniconda3/envs/flight/compiler_compat -L/home/chunwei/miniconda3/envs/flight/lib -Wl,-rpath=/home/chunwei/miniconda3/envs/flight/lib -Wl,--no-as-needed -Wl,--sysroot=/ build/temp.linux-x86_64-cpython-38/home/chunwei/drone_offboard/vision_backbones/Mask2Former/mask2former/modeling/pixel_decoder/ops/src/cpu/ms_deform_attn_cpu.o build/temp.linux-x86_64-cpython-38/home/chunwei/drone_offboard/vision_backbones/Mask2Former/mask2former/modeling/pixel_decoder/ops/src/cuda/ms_deform_attn_cuda.o build/temp.linux-x86_64-cpython-38/home/chunwei/drone_offboard/vision_backbones/Mask2Former/mask2former/modeling/pixel_decoder/ops/src/vision.o -L/home/chunwei/miniconda3/envs/flight/lib/python3.8/site-packages/torch/lib -L/usr/local/cuda/lib64 -lc10 -ltorch -ltorch_cpu -ltorch_python -lcudart -lc10_cuda -ltorch_cuda_cu -ltorch_cuda_cpp -o build/lib.linux-x86_64-cpython-38/MultiScaleDeformableAttention.cpython-38-x86_64-linux-gnu.so\n",
            "running install\n",
            "/home/chunwei/miniconda3/envs/flight/lib/python3.8/site-packages/setuptools/command/install.py:34: SetuptoolsDeprecationWarning: setup.py install is deprecated. Use build and pip and other standards-based tools.\n",
            "  warnings.warn(\n",
            "/home/chunwei/miniconda3/envs/flight/lib/python3.8/site-packages/setuptools/command/easy_install.py:144: EasyInstallDeprecationWarning: easy_install command is deprecated. Use build and pip and other standards-based tools.\n",
            "  warnings.warn(\n",
            "running bdist_egg\n",
            "running egg_info\n",
            "creating MultiScaleDeformableAttention.egg-info\n",
            "writing MultiScaleDeformableAttention.egg-info/PKG-INFO\n",
            "writing dependency_links to MultiScaleDeformableAttention.egg-info/dependency_links.txt\n",
            "writing top-level names to MultiScaleDeformableAttention.egg-info/top_level.txt\n",
            "writing manifest file 'MultiScaleDeformableAttention.egg-info/SOURCES.txt'\n",
            "reading manifest file 'MultiScaleDeformableAttention.egg-info/SOURCES.txt'\n",
            "writing manifest file 'MultiScaleDeformableAttention.egg-info/SOURCES.txt'\n",
            "installing library code to build/bdist.linux-x86_64/egg\n",
            "running install_lib\n",
            "creating build/bdist.linux-x86_64\n",
            "creating build/bdist.linux-x86_64/egg\n",
            "creating build/bdist.linux-x86_64/egg/functions\n",
            "copying build/lib.linux-x86_64-cpython-38/functions/__init__.py -> build/bdist.linux-x86_64/egg/functions\n",
            "copying build/lib.linux-x86_64-cpython-38/functions/ms_deform_attn_func.py -> build/bdist.linux-x86_64/egg/functions\n",
            "copying build/lib.linux-x86_64-cpython-38/MultiScaleDeformableAttention.cpython-38-x86_64-linux-gnu.so -> build/bdist.linux-x86_64/egg\n",
            "creating build/bdist.linux-x86_64/egg/modules\n",
            "copying build/lib.linux-x86_64-cpython-38/modules/__init__.py -> build/bdist.linux-x86_64/egg/modules\n",
            "copying build/lib.linux-x86_64-cpython-38/modules/ms_deform_attn.py -> build/bdist.linux-x86_64/egg/modules\n",
            "byte-compiling build/bdist.linux-x86_64/egg/functions/__init__.py to __init__.cpython-38.pyc\n",
            "byte-compiling build/bdist.linux-x86_64/egg/functions/ms_deform_attn_func.py to ms_deform_attn_func.cpython-38.pyc\n",
            "byte-compiling build/bdist.linux-x86_64/egg/modules/__init__.py to __init__.cpython-38.pyc\n",
            "byte-compiling build/bdist.linux-x86_64/egg/modules/ms_deform_attn.py to ms_deform_attn.cpython-38.pyc\n",
            "creating stub loader for MultiScaleDeformableAttention.cpython-38-x86_64-linux-gnu.so\n",
            "byte-compiling build/bdist.linux-x86_64/egg/MultiScaleDeformableAttention.py to MultiScaleDeformableAttention.cpython-38.pyc\n",
            "creating build/bdist.linux-x86_64/egg/EGG-INFO\n",
            "copying MultiScaleDeformableAttention.egg-info/PKG-INFO -> build/bdist.linux-x86_64/egg/EGG-INFO\n",
            "copying MultiScaleDeformableAttention.egg-info/SOURCES.txt -> build/bdist.linux-x86_64/egg/EGG-INFO\n",
            "copying MultiScaleDeformableAttention.egg-info/dependency_links.txt -> build/bdist.linux-x86_64/egg/EGG-INFO\n",
            "copying MultiScaleDeformableAttention.egg-info/top_level.txt -> build/bdist.linux-x86_64/egg/EGG-INFO\n",
            "writing build/bdist.linux-x86_64/egg/EGG-INFO/native_libs.txt\n",
            "zip_safe flag not set; analyzing archive contents...\n",
            "__pycache__.MultiScaleDeformableAttention.cpython-38: module references __file__\n",
            "creating dist\n",
            "creating 'dist/MultiScaleDeformableAttention-1.0-py3.8-linux-x86_64.egg' and adding 'build/bdist.linux-x86_64/egg' to it\n",
            "removing 'build/bdist.linux-x86_64/egg' (and everything under it)\n",
            "Processing MultiScaleDeformableAttention-1.0-py3.8-linux-x86_64.egg\n",
            "creating /home/chunwei/miniconda3/envs/flight/lib/python3.8/site-packages/MultiScaleDeformableAttention-1.0-py3.8-linux-x86_64.egg\n",
            "Extracting MultiScaleDeformableAttention-1.0-py3.8-linux-x86_64.egg to /home/chunwei/miniconda3/envs/flight/lib/python3.8/site-packages\n",
            "Adding MultiScaleDeformableAttention 1.0 to easy-install.pth file\n",
            "\n",
            "Installed /home/chunwei/miniconda3/envs/flight/lib/python3.8/site-packages/MultiScaleDeformableAttention-1.0-py3.8-linux-x86_64.egg\n",
            "Processing dependencies for MultiScaleDeformableAttention==1.0\n",
            "Finished processing dependencies for MultiScaleDeformableAttention==1.0\n",
            "/home/chunwei/drone_offboard/vision_backbones/Mask2Former/mask2former/modeling\n"
          ]
        }
      ],
      "source": [
        "# clone and install Mask2Former\n",
        "# !git clone https://github.com/facebookresearch/Mask2Former.git\n",
        "\n",
        "%cd ../../Mask2Former\n",
        "!pwd\n",
        "\n",
        "%pip install -U opencv-python\n",
        "%pip install git+https://github.com/cocodataset/panopticapi.git\n",
        "\n",
        "%cd mask2former/modeling/pixel_decoder/ops\n",
        "!python setup.py build install\n",
        "%cd ../.."
      ]
    },
    {
      "cell_type": "code",
      "execution_count": 5,
      "id": "LsJtsT_M_NCN",
      "metadata": {
        "colab": {
          "base_uri": "https://localhost:8080/"
        },
        "id": "LsJtsT_M_NCN",
        "outputId": "ccf68bbe-59c7-44ff-ad13-fd5a6ae72e72"
      },
      "outputs": [],
      "source": [
        "# Clone Dense Prediction Transformer repository\n",
        "# !git clone https://github.com/isl-org/DPT"
      ]
    },
    {
      "cell_type": "code",
      "execution_count": 2,
      "id": "USfgWItad1bs",
      "metadata": {
        "colab": {
          "base_uri": "https://localhost:8080/"
        },
        "id": "USfgWItad1bs",
        "outputId": "a7cb2a53-94d3-4a46-dded-162c4de9b8ce"
      },
      "outputs": [
        {
          "name": "stdout",
          "output_type": "stream",
          "text": [
            "Requirement already satisfied: timm==0.4.12 in /home/chunwei/miniconda3/envs/flight/lib/python3.8/site-packages (0.4.12)\n",
            "Requirement already satisfied: torch>=1.4 in /home/chunwei/miniconda3/envs/flight/lib/python3.8/site-packages (from timm==0.4.12) (1.10.0+cu113)\n",
            "Requirement already satisfied: torchvision in /home/chunwei/miniconda3/envs/flight/lib/python3.8/site-packages (from timm==0.4.12) (0.11.0+cu113)\n",
            "Requirement already satisfied: typing-extensions in /home/chunwei/miniconda3/envs/flight/lib/python3.8/site-packages (from torch>=1.4->timm==0.4.12) (4.5.0)\n",
            "Requirement already satisfied: pillow!=8.3.0,>=5.3.0 in /home/chunwei/miniconda3/envs/flight/lib/python3.8/site-packages (from torchvision->timm==0.4.12) (9.4.0)\n",
            "Requirement already satisfied: numpy in /home/chunwei/miniconda3/envs/flight/lib/python3.8/site-packages (from torchvision->timm==0.4.12) (1.23.1)\n",
            "Note: you may need to restart the kernel to use updated packages.\n",
            "Collecting einops==0.3.2\n",
            "  Downloading einops-0.3.2-py3-none-any.whl (25 kB)\n",
            "Installing collected packages: einops\n",
            "  Attempting uninstall: einops\n",
            "    Found existing installation: einops 0.6.0\n",
            "    Uninstalling einops-0.6.0:\n",
            "      Successfully uninstalled einops-0.6.0\n",
            "Successfully installed einops-0.3.2\n",
            "Note: you may need to restart the kernel to use updated packages.\n"
          ]
        }
      ],
      "source": [
        "# Clone MultiMAE repository\n",
        "# !git clone https://github.com/EPFL-VILAB/MultiMAE\n",
        "%pip install timm==0.4.12\n",
        "%pip install einops==0.3.2"
      ]
    },
    {
      "cell_type": "markdown",
      "id": "OwzkhnaeAP8M",
      "metadata": {
        "id": "OwzkhnaeAP8M"
      },
      "source": [
        "## 2 Imports and model setup\n",
        "\n",
        "**Important**: Before running the following cells, please restart the runtime **again** using the menu bar entries `Runtime > Restart runtime`"
      ]
    },
    {
      "cell_type": "markdown",
      "id": "qEAL1hmAkY-A",
      "metadata": {
        "id": "qEAL1hmAkY-A"
      },
      "source": [
        "### 2.1 Imports"
      ]
    },
    {
      "cell_type": "code",
      "execution_count": 1,
      "id": "d7cfc6a1",
      "metadata": {
        "id": "d7cfc6a1"
      },
      "outputs": [],
      "source": [
        "import sys\n",
        "sys.path.append(\"./Mask2Former\")\n",
        "sys.path.append(\"./DPT\")\n",
        "sys.path.append(\"./MultiMAE\")\n",
        "\n",
        "# To supress DPT and Mask2Former warnings\n",
        "import warnings\n",
        "warnings.filterwarnings(\"ignore\")\n",
        "\n",
        "import os\n",
        "from tqdm import tqdm\n",
        "import random\n",
        "from functools import partial\n",
        "\n",
        "import numpy as np\n",
        "import torch\n",
        "import torch.nn.functional as F\n",
        "import torchvision.transforms.functional as TF\n",
        "from torchvision import datasets, transforms\n",
        "from einops import rearrange\n",
        "\n",
        "from PIL import Image\n",
        "import matplotlib.pyplot as plt\n",
        "from mpl_toolkits.axes_grid1 import ImageGrid\n",
        "\n",
        "# Mask2Former and detectron2 dependencies for semantic segmentation pseudo labeling\n",
        "from detectron2.utils.visualizer import ColorMode, Visualizer\n",
        "from detectron2.data import MetadataCatalog\n",
        "from detectron2 import model_zoo\n",
        "from detectron2.engine import DefaultPredictor\n",
        "from detectron2.config import get_cfg\n",
        "from detectron2.projects.deeplab import add_deeplab_config\n",
        "coco_metadata = MetadataCatalog.get(\"coco_2017_val_panoptic\")\n",
        "from mask2former import add_maskformer2_config\n",
        "\n",
        "# DPT dependencies for depth pseudo labeling\n",
        "from dpt.models import DPTDepthModel\n",
        "\n",
        "from multimae.models.input_adapters import PatchedInputAdapter, SemSegInputAdapter\n",
        "from multimae.models.output_adapters import SpatialOutputAdapter\n",
        "from multimae.models.multimae import pretrain_multimae_base\n",
        "from multimae.utils.data_constants import IMAGENET_DEFAULT_MEAN, IMAGENET_DEFAULT_STD\n",
        "\n",
        "torch.set_grad_enabled(False)\n",
        "device = 'cuda' if torch.cuda.is_available() else 'cpu'"
      ]
    },
    {
      "cell_type": "markdown",
      "id": "ChHY7ibfkfTq",
      "metadata": {
        "id": "ChHY7ibfkfTq"
      },
      "source": [
        "### 2.2 Pseudo labeling model setup"
      ]
    },
    {
      "cell_type": "code",
      "execution_count": null,
      "id": "fXv_X05zEekt",
      "metadata": {
        "colab": {
          "base_uri": "https://localhost:8080/"
        },
        "id": "fXv_X05zEekt",
        "outputId": "49a9c3ff-e743-4cb7-854a-b71678ca435c"
      },
      "outputs": [],
      "source": [
        "# Initialize Omnidata depth model\n",
        "\n",
        "!wget https://datasets.epfl.ch/vilab/iccv21/weights/omnidata_rgb2depth_dpt_hybrid.pth -P pretrained_models\n",
        "\n",
        "omnidata_ckpt = torch.load('./pretrained_models/omnidata_rgb2depth_dpt_hybrid.pth', map_location='cpu')\n",
        "depth_model = DPTDepthModel()\n",
        "depth_model.load_state_dict(omnidata_ckpt)\n",
        "depth_model = depth_model.to(device).eval()\n",
        "\n",
        "def predict_depth(img):\n",
        "  depth_model_input = (img.unsqueeze(0) - 0.5) / 0.5\n",
        "  return depth_model(depth_model_input.to(device))"
      ]
    },
    {
      "cell_type": "code",
      "execution_count": null,
      "id": "sw8GTaIIivc5",
      "metadata": {
        "colab": {
          "base_uri": "https://localhost:8080/"
        },
        "id": "sw8GTaIIivc5",
        "outputId": "ea43c069-695d-42ec-eeff-bc7095829740"
      },
      "outputs": [],
      "source": [
        "# COCO Mask2Former\n",
        "\n",
        "cfg = get_cfg()\n",
        "add_deeplab_config(cfg)\n",
        "add_maskformer2_config(cfg)\n",
        "cfg.merge_from_file(\"../Mask2Former/configs/coco/panoptic-segmentation/swin/maskformer2_swin_small_bs16_50ep.yaml\")\n",
        "cfg.MODEL.WEIGHTS = 'https://dl.fbaipublicfiles.com/maskformer/mask2former/coco/panoptic/maskformer2_swin_small_bs16_50ep/model_final_a407fd.pkl'\n",
        "cfg.MODEL.MASK_FORMER.TEST.SEMANTIC_ON = True\n",
        "cfg.MODEL.MASK_FORMER.TEST.INSTANCE_ON = True\n",
        "cfg.MODEL.MASK_FORMER.TEST.PANOPTIC_ON = True\n",
        "semseg_model = DefaultPredictor(cfg)\n",
        "\n",
        "def predict_semseg(img):\n",
        "  return semseg_model(255*img.permute(1,2,0).numpy())['sem_seg'].argmax(0)\n",
        "\n",
        "def plot_semseg(img, semseg, ax):\n",
        "  v = Visualizer(img.permute(1,2,0), coco_metadata, scale=1.2, instance_mode=ColorMode.IMAGE_BW)\n",
        "  semantic_result = v.draw_sem_seg(semseg.cpu()).get_image()\n",
        "  ax.imshow(semantic_result)"
      ]
    },
    {
      "cell_type": "markdown",
      "id": "647cd32b",
      "metadata": {
        "id": "647cd32b"
      },
      "source": [
        "### 2.3  MultiMAE model setup"
      ]
    },
    {
      "cell_type": "code",
      "execution_count": null,
      "id": "c4bd51fe",
      "metadata": {
        "colab": {
          "base_uri": "https://localhost:8080/",
          "referenced_widgets": [
            "767e11ba0ade4a14a5993996dd1b818c",
            "c6494a220fa140e2bfecdb290c06b040",
            "e2f78e9b0c934a1291c8ae26fdd72a5e",
            "6883913b3c5643748171823742f1ec8f",
            "50c25270286544008bc901a61a20829a",
            "567d153adc574b4e8c72c56b49387964",
            "21aa0fa877c5428fba5d61a93926dda1",
            "1ab0b48c8bff4b61b4a5ae0631c0ef0e",
            "21bcfdad2ee54413bad7833268a98199",
            "9405819b0aca4a97b4f704ef59c8bab9",
            "862038df210d4848866541013d13f363"
          ]
        },
        "id": "c4bd51fe",
        "outputId": "80c5a3b7-2202-400b-f60b-3cf806d5035a"
      },
      "outputs": [],
      "source": [
        "DOMAIN_CONF = {\n",
        "    'rgb': {\n",
        "        'input_adapter': partial(PatchedInputAdapter, num_channels=3, stride_level=1),\n",
        "        'output_adapter': partial(SpatialOutputAdapter, num_channels=3, stride_level=1),\n",
        "    },\n",
        "    'depth': {\n",
        "        'input_adapter': partial(PatchedInputAdapter, num_channels=1, stride_level=1),\n",
        "        'output_adapter': partial(SpatialOutputAdapter, num_channels=1, stride_level=1),\n",
        "    },\n",
        "    'semseg': {\n",
        "        'input_adapter': partial(SemSegInputAdapter, num_classes=133,\n",
        "                                 dim_class_emb=64, interpolate_class_emb=False, stride_level=4),\n",
        "        'output_adapter': partial(SpatialOutputAdapter, num_channels=133, stride_level=4),\n",
        "    },\n",
        "}\n",
        "DOMAINS = ['rgb', 'depth', 'semseg']\n",
        "\n",
        "input_adapters = {\n",
        "    domain: dinfo['input_adapter'](\n",
        "        patch_size_full=16,\n",
        "    )\n",
        "    for domain, dinfo in DOMAIN_CONF.items()\n",
        "}\n",
        "output_adapters = {\n",
        "    domain: dinfo['output_adapter'](\n",
        "        patch_size_full=16,\n",
        "        dim_tokens=256,\n",
        "        use_task_queries=True,\n",
        "        depth=2,\n",
        "        context_tasks=DOMAINS,\n",
        "        task=domain\n",
        "    )\n",
        "    for domain, dinfo in DOMAIN_CONF.items()\n",
        "}\n",
        "\n",
        "multimae = pretrain_multimae_base(\n",
        "    input_adapters=input_adapters,\n",
        "    output_adapters=output_adapters,\n",
        ")\n",
        "\n",
        "CKPT_URL = 'https://github.com/EPFL-VILAB/MultiMAE/releases/download/pretrained-weights/multimae-b_98_rgb+-depth-semseg_1600e_multivit-afff3f8c.pth'\n",
        "ckpt = torch.hub.load_state_dict_from_url(CKPT_URL, map_location='cpu')\n",
        "multimae.load_state_dict(ckpt['model'], strict=False)\n",
        "multimae = multimae.to(device).eval()\n"
      ]
    }
  ],
  "metadata": {
    "accelerator": "GPU",
    "colab": {
      "collapsed_sections": [
        "uIv8bdqZ37fj",
        "qEAL1hmAkY-A",
        "ChHY7ibfkfTq",
        "647cd32b",
        "76d25ba6"
      ],
      "name": "MultiMAE Demo.ipynb",
      "provenance": [],
      "toc_visible": true
    },
    "kernelspec": {
      "display_name": "flight",
      "language": "python",
      "name": "python3"
    },
    "language_info": {
      "codemirror_mode": {
        "name": "ipython",
        "version": 3
      },
      "file_extension": ".py",
      "mimetype": "text/x-python",
      "name": "python",
      "nbconvert_exporter": "python",
      "pygments_lexer": "ipython3",
      "version": "3.8.16"
    },
    "vscode": {
      "interpreter": {
        "hash": "b5007674d9367f202903ad40bbfe5061e981a21fff3e651992d51e1cbbc95975"
      }
    },
    "widgets": {
      "application/vnd.jupyter.widget-state+json": {
        "1ab0b48c8bff4b61b4a5ae0631c0ef0e": {
          "model_module": "@jupyter-widgets/base",
          "model_module_version": "1.2.0",
          "model_name": "LayoutModel",
          "state": {
            "_model_module": "@jupyter-widgets/base",
            "_model_module_version": "1.2.0",
            "_model_name": "LayoutModel",
            "_view_count": null,
            "_view_module": "@jupyter-widgets/base",
            "_view_module_version": "1.2.0",
            "_view_name": "LayoutView",
            "align_content": null,
            "align_items": null,
            "align_self": null,
            "border": null,
            "bottom": null,
            "display": null,
            "flex": null,
            "flex_flow": null,
            "grid_area": null,
            "grid_auto_columns": null,
            "grid_auto_flow": null,
            "grid_auto_rows": null,
            "grid_column": null,
            "grid_gap": null,
            "grid_row": null,
            "grid_template_areas": null,
            "grid_template_columns": null,
            "grid_template_rows": null,
            "height": null,
            "justify_content": null,
            "justify_items": null,
            "left": null,
            "margin": null,
            "max_height": null,
            "max_width": null,
            "min_height": null,
            "min_width": null,
            "object_fit": null,
            "object_position": null,
            "order": null,
            "overflow": null,
            "overflow_x": null,
            "overflow_y": null,
            "padding": null,
            "right": null,
            "top": null,
            "visibility": null,
            "width": null
          }
        },
        "21aa0fa877c5428fba5d61a93926dda1": {
          "model_module": "@jupyter-widgets/controls",
          "model_module_version": "1.5.0",
          "model_name": "DescriptionStyleModel",
          "state": {
            "_model_module": "@jupyter-widgets/controls",
            "_model_module_version": "1.5.0",
            "_model_name": "DescriptionStyleModel",
            "_view_count": null,
            "_view_module": "@jupyter-widgets/base",
            "_view_module_version": "1.2.0",
            "_view_name": "StyleView",
            "description_width": ""
          }
        },
        "21bcfdad2ee54413bad7833268a98199": {
          "model_module": "@jupyter-widgets/controls",
          "model_module_version": "1.5.0",
          "model_name": "ProgressStyleModel",
          "state": {
            "_model_module": "@jupyter-widgets/controls",
            "_model_module_version": "1.5.0",
            "_model_name": "ProgressStyleModel",
            "_view_count": null,
            "_view_module": "@jupyter-widgets/base",
            "_view_module_version": "1.2.0",
            "_view_name": "StyleView",
            "bar_color": null,
            "description_width": ""
          }
        },
        "50c25270286544008bc901a61a20829a": {
          "model_module": "@jupyter-widgets/base",
          "model_module_version": "1.2.0",
          "model_name": "LayoutModel",
          "state": {
            "_model_module": "@jupyter-widgets/base",
            "_model_module_version": "1.2.0",
            "_model_name": "LayoutModel",
            "_view_count": null,
            "_view_module": "@jupyter-widgets/base",
            "_view_module_version": "1.2.0",
            "_view_name": "LayoutView",
            "align_content": null,
            "align_items": null,
            "align_self": null,
            "border": null,
            "bottom": null,
            "display": null,
            "flex": null,
            "flex_flow": null,
            "grid_area": null,
            "grid_auto_columns": null,
            "grid_auto_flow": null,
            "grid_auto_rows": null,
            "grid_column": null,
            "grid_gap": null,
            "grid_row": null,
            "grid_template_areas": null,
            "grid_template_columns": null,
            "grid_template_rows": null,
            "height": null,
            "justify_content": null,
            "justify_items": null,
            "left": null,
            "margin": null,
            "max_height": null,
            "max_width": null,
            "min_height": null,
            "min_width": null,
            "object_fit": null,
            "object_position": null,
            "order": null,
            "overflow": null,
            "overflow_x": null,
            "overflow_y": null,
            "padding": null,
            "right": null,
            "top": null,
            "visibility": null,
            "width": null
          }
        },
        "567d153adc574b4e8c72c56b49387964": {
          "model_module": "@jupyter-widgets/base",
          "model_module_version": "1.2.0",
          "model_name": "LayoutModel",
          "state": {
            "_model_module": "@jupyter-widgets/base",
            "_model_module_version": "1.2.0",
            "_model_name": "LayoutModel",
            "_view_count": null,
            "_view_module": "@jupyter-widgets/base",
            "_view_module_version": "1.2.0",
            "_view_name": "LayoutView",
            "align_content": null,
            "align_items": null,
            "align_self": null,
            "border": null,
            "bottom": null,
            "display": null,
            "flex": null,
            "flex_flow": null,
            "grid_area": null,
            "grid_auto_columns": null,
            "grid_auto_flow": null,
            "grid_auto_rows": null,
            "grid_column": null,
            "grid_gap": null,
            "grid_row": null,
            "grid_template_areas": null,
            "grid_template_columns": null,
            "grid_template_rows": null,
            "height": null,
            "justify_content": null,
            "justify_items": null,
            "left": null,
            "margin": null,
            "max_height": null,
            "max_width": null,
            "min_height": null,
            "min_width": null,
            "object_fit": null,
            "object_position": null,
            "order": null,
            "overflow": null,
            "overflow_x": null,
            "overflow_y": null,
            "padding": null,
            "right": null,
            "top": null,
            "visibility": null,
            "width": null
          }
        },
        "6883913b3c5643748171823742f1ec8f": {
          "model_module": "@jupyter-widgets/controls",
          "model_module_version": "1.5.0",
          "model_name": "HTMLModel",
          "state": {
            "_dom_classes": [],
            "_model_module": "@jupyter-widgets/controls",
            "_model_module_version": "1.5.0",
            "_model_name": "HTMLModel",
            "_view_count": null,
            "_view_module": "@jupyter-widgets/controls",
            "_view_module_version": "1.5.0",
            "_view_name": "HTMLView",
            "description": "",
            "description_tooltip": null,
            "layout": "IPY_MODEL_9405819b0aca4a97b4f704ef59c8bab9",
            "placeholder": "​",
            "style": "IPY_MODEL_862038df210d4848866541013d13f363",
            "value": " 376M/376M [00:10&lt;00:00, 34.5MB/s]"
          }
        },
        "767e11ba0ade4a14a5993996dd1b818c": {
          "model_module": "@jupyter-widgets/controls",
          "model_module_version": "1.5.0",
          "model_name": "HBoxModel",
          "state": {
            "_dom_classes": [],
            "_model_module": "@jupyter-widgets/controls",
            "_model_module_version": "1.5.0",
            "_model_name": "HBoxModel",
            "_view_count": null,
            "_view_module": "@jupyter-widgets/controls",
            "_view_module_version": "1.5.0",
            "_view_name": "HBoxView",
            "box_style": "",
            "children": [
              "IPY_MODEL_c6494a220fa140e2bfecdb290c06b040",
              "IPY_MODEL_e2f78e9b0c934a1291c8ae26fdd72a5e",
              "IPY_MODEL_6883913b3c5643748171823742f1ec8f"
            ],
            "layout": "IPY_MODEL_50c25270286544008bc901a61a20829a"
          }
        },
        "862038df210d4848866541013d13f363": {
          "model_module": "@jupyter-widgets/controls",
          "model_module_version": "1.5.0",
          "model_name": "DescriptionStyleModel",
          "state": {
            "_model_module": "@jupyter-widgets/controls",
            "_model_module_version": "1.5.0",
            "_model_name": "DescriptionStyleModel",
            "_view_count": null,
            "_view_module": "@jupyter-widgets/base",
            "_view_module_version": "1.2.0",
            "_view_name": "StyleView",
            "description_width": ""
          }
        },
        "9405819b0aca4a97b4f704ef59c8bab9": {
          "model_module": "@jupyter-widgets/base",
          "model_module_version": "1.2.0",
          "model_name": "LayoutModel",
          "state": {
            "_model_module": "@jupyter-widgets/base",
            "_model_module_version": "1.2.0",
            "_model_name": "LayoutModel",
            "_view_count": null,
            "_view_module": "@jupyter-widgets/base",
            "_view_module_version": "1.2.0",
            "_view_name": "LayoutView",
            "align_content": null,
            "align_items": null,
            "align_self": null,
            "border": null,
            "bottom": null,
            "display": null,
            "flex": null,
            "flex_flow": null,
            "grid_area": null,
            "grid_auto_columns": null,
            "grid_auto_flow": null,
            "grid_auto_rows": null,
            "grid_column": null,
            "grid_gap": null,
            "grid_row": null,
            "grid_template_areas": null,
            "grid_template_columns": null,
            "grid_template_rows": null,
            "height": null,
            "justify_content": null,
            "justify_items": null,
            "left": null,
            "margin": null,
            "max_height": null,
            "max_width": null,
            "min_height": null,
            "min_width": null,
            "object_fit": null,
            "object_position": null,
            "order": null,
            "overflow": null,
            "overflow_x": null,
            "overflow_y": null,
            "padding": null,
            "right": null,
            "top": null,
            "visibility": null,
            "width": null
          }
        },
        "c6494a220fa140e2bfecdb290c06b040": {
          "model_module": "@jupyter-widgets/controls",
          "model_module_version": "1.5.0",
          "model_name": "HTMLModel",
          "state": {
            "_dom_classes": [],
            "_model_module": "@jupyter-widgets/controls",
            "_model_module_version": "1.5.0",
            "_model_name": "HTMLModel",
            "_view_count": null,
            "_view_module": "@jupyter-widgets/controls",
            "_view_module_version": "1.5.0",
            "_view_name": "HTMLView",
            "description": "",
            "description_tooltip": null,
            "layout": "IPY_MODEL_567d153adc574b4e8c72c56b49387964",
            "placeholder": "​",
            "style": "IPY_MODEL_21aa0fa877c5428fba5d61a93926dda1",
            "value": "100%"
          }
        },
        "e2f78e9b0c934a1291c8ae26fdd72a5e": {
          "model_module": "@jupyter-widgets/controls",
          "model_module_version": "1.5.0",
          "model_name": "FloatProgressModel",
          "state": {
            "_dom_classes": [],
            "_model_module": "@jupyter-widgets/controls",
            "_model_module_version": "1.5.0",
            "_model_name": "FloatProgressModel",
            "_view_count": null,
            "_view_module": "@jupyter-widgets/controls",
            "_view_module_version": "1.5.0",
            "_view_name": "ProgressView",
            "bar_style": "success",
            "description": "",
            "description_tooltip": null,
            "layout": "IPY_MODEL_1ab0b48c8bff4b61b4a5ae0631c0ef0e",
            "max": 394406915,
            "min": 0,
            "orientation": "horizontal",
            "style": "IPY_MODEL_21bcfdad2ee54413bad7833268a98199",
            "value": 394406915
          }
        }
      }
    }
  },
  "nbformat": 4,
  "nbformat_minor": 5
}
